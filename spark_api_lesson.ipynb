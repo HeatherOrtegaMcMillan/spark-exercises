{
 "cells": [
  {
   "cell_type": "markdown",
   "id": "1c43548f-65e6-4126-aeef-37f21f607cd8",
   "metadata": {},
   "source": [
    "# Spark API"
   ]
  },
  {
   "cell_type": "code",
   "execution_count": 1,
   "id": "enclosed-practice",
   "metadata": {},
   "outputs": [],
   "source": [
    "import pyspark\n",
    "\n",
    "spark = pyspark.sql.SparkSession.builder.getOrCreate()"
   ]
  },
  {
   "cell_type": "code",
   "execution_count": 2,
   "id": "prostate-making",
   "metadata": {},
   "outputs": [
    {
     "data": {
      "text/html": [
       "\n",
       "            <div>\n",
       "                <p><b>SparkSession - in-memory</b></p>\n",
       "                \n",
       "        <div>\n",
       "            <p><b>SparkContext</b></p>\n",
       "\n",
       "            <p><a href=\"http://192.168.7.228:4040\">Spark UI</a></p>\n",
       "\n",
       "            <dl>\n",
       "              <dt>Version</dt>\n",
       "                <dd><code>v3.1.2</code></dd>\n",
       "              <dt>Master</dt>\n",
       "                <dd><code>local[*]</code></dd>\n",
       "              <dt>AppName</dt>\n",
       "                <dd><code>pyspark-shell</code></dd>\n",
       "            </dl>\n",
       "        </div>\n",
       "        \n",
       "            </div>\n",
       "        "
      ],
      "text/plain": [
       "<pyspark.sql.session.SparkSession at 0x7fd1c111f9d0>"
      ]
     },
     "execution_count": 2,
     "metadata": {},
     "output_type": "execute_result"
    }
   ],
   "source": [
    "spark"
   ]
  },
  {
   "cell_type": "markdown",
   "id": "e92f4b3b-2d9d-422f-b98f-ce16519070e3",
   "metadata": {},
   "source": [
    "For demonstration, we'll create a spark dataframe from a pandas dataframe."
   ]
  },
  {
   "cell_type": "code",
   "execution_count": 3,
   "id": "located-affect",
   "metadata": {},
   "outputs": [],
   "source": [
    "import numpy as np\n",
    "import pandas as pd\n",
    "import pydataset"
   ]
  },
  {
   "cell_type": "code",
   "execution_count": 4,
   "id": "unsigned-boring",
   "metadata": {},
   "outputs": [
    {
     "name": "stdout",
     "output_type": "stream",
     "text": [
      "+----------+----+------+------+---+------+----+\n",
      "|total_bill| tip|   sex|smoker|day|  time|size|\n",
      "+----------+----+------+------+---+------+----+\n",
      "|     16.99|1.01|Female|    No|Sun|Dinner|   2|\n",
      "|     10.34|1.66|  Male|    No|Sun|Dinner|   3|\n",
      "|     21.01| 3.5|  Male|    No|Sun|Dinner|   3|\n",
      "|     23.68|3.31|  Male|    No|Sun|Dinner|   2|\n",
      "|     24.59|3.61|Female|    No|Sun|Dinner|   4|\n",
      "|     25.29|4.71|  Male|    No|Sun|Dinner|   4|\n",
      "|      8.77| 2.0|  Male|    No|Sun|Dinner|   2|\n",
      "|     26.88|3.12|  Male|    No|Sun|Dinner|   4|\n",
      "|     15.04|1.96|  Male|    No|Sun|Dinner|   2|\n",
      "|     14.78|3.23|  Male|    No|Sun|Dinner|   2|\n",
      "|     10.27|1.71|  Male|    No|Sun|Dinner|   2|\n",
      "|     35.26| 5.0|Female|    No|Sun|Dinner|   4|\n",
      "|     15.42|1.57|  Male|    No|Sun|Dinner|   2|\n",
      "|     18.43| 3.0|  Male|    No|Sun|Dinner|   4|\n",
      "|     14.83|3.02|Female|    No|Sun|Dinner|   2|\n",
      "|     21.58|3.92|  Male|    No|Sun|Dinner|   2|\n",
      "|     10.33|1.67|Female|    No|Sun|Dinner|   3|\n",
      "|     16.29|3.71|  Male|    No|Sun|Dinner|   3|\n",
      "|     16.97| 3.5|Female|    No|Sun|Dinner|   3|\n",
      "|     20.65|3.35|  Male|    No|Sat|Dinner|   3|\n",
      "+----------+----+------+------+---+------+----+\n",
      "only showing top 20 rows\n",
      "\n"
     ]
    }
   ],
   "source": [
    "tips = pydataset.data('tips')\n",
    "df = spark.createDataFrame(tips)\n",
    "df.show()"
   ]
  },
  {
   "cell_type": "markdown",
   "id": "confidential-railway",
   "metadata": {},
   "source": [
    "## DataFrame Basics"
   ]
  },
  {
   "cell_type": "code",
   "execution_count": 5,
   "id": "1593103d-aa7b-49b2-a1b9-606e14bbe864",
   "metadata": {},
   "outputs": [
    {
     "name": "stdout",
     "output_type": "stream",
     "text": [
      "+----------+----+------+------+---+------+----+\n",
      "|total_bill| tip|   sex|smoker|day|  time|size|\n",
      "+----------+----+------+------+---+------+----+\n",
      "|     16.99|1.01|Female|    No|Sun|Dinner|   2|\n",
      "|     10.34|1.66|  Male|    No|Sun|Dinner|   3|\n",
      "|     21.01| 3.5|  Male|    No|Sun|Dinner|   3|\n",
      "|     23.68|3.31|  Male|    No|Sun|Dinner|   2|\n",
      "|     24.59|3.61|Female|    No|Sun|Dinner|   4|\n",
      "+----------+----+------+------+---+------+----+\n",
      "only showing top 5 rows\n",
      "\n"
     ]
    }
   ],
   "source": [
    "df.show(5)"
   ]
  },
  {
   "cell_type": "code",
   "execution_count": 7,
   "id": "0298012e-4e7c-4ec1-a22a-76e9a9e74bc6",
   "metadata": {},
   "outputs": [
    {
     "name": "stdout",
     "output_type": "stream",
     "text": [
      "-RECORD 0------------\n",
      " total_bill | 16.99  \n",
      " tip        | 1.01   \n",
      " sex        | Female \n",
      " smoker     | No     \n",
      " day        | Sun    \n",
      " time       | Dinner \n",
      " size       | 2      \n",
      "-RECORD 1------------\n",
      " total_bill | 10.34  \n",
      " tip        | 1.66   \n",
      " sex        | Male   \n",
      " smoker     | No     \n",
      " day        | Sun    \n",
      " time       | Dinner \n",
      " size       | 3      \n",
      "-RECORD 2------------\n",
      " total_bill | 21.01  \n",
      " tip        | 3.5    \n",
      " sex        | Male   \n",
      " smoker     | No     \n",
      " day        | Sun    \n",
      " time       | Dinner \n",
      " size       | 3      \n",
      "-RECORD 3------------\n",
      " total_bill | 23.68  \n",
      " tip        | 3.31   \n",
      " sex        | Male   \n",
      " smoker     | No     \n",
      " day        | Sun    \n",
      " time       | Dinner \n",
      " size       | 2      \n",
      "-RECORD 4------------\n",
      " total_bill | 24.59  \n",
      " tip        | 3.61   \n",
      " sex        | Female \n",
      " smoker     | No     \n",
      " day        | Sun    \n",
      " time       | Dinner \n",
      " size       | 4      \n",
      "only showing top 5 rows\n",
      "\n"
     ]
    }
   ],
   "source": [
    "df.show(5, vertical = True)"
   ]
  },
  {
   "cell_type": "code",
   "execution_count": 6,
   "id": "079778d7-a1ca-4246-8127-1787de0c8e52",
   "metadata": {},
   "outputs": [
    {
     "data": {
      "text/plain": [
       "[Row(total_bill=16.99, tip=1.01, sex='Female', smoker='No', day='Sun', time='Dinner', size=2),\n",
       " Row(total_bill=10.34, tip=1.66, sex='Male', smoker='No', day='Sun', time='Dinner', size=3),\n",
       " Row(total_bill=21.01, tip=3.5, sex='Male', smoker='No', day='Sun', time='Dinner', size=3),\n",
       " Row(total_bill=23.68, tip=3.31, sex='Male', smoker='No', day='Sun', time='Dinner', size=2),\n",
       " Row(total_bill=24.59, tip=3.61, sex='Female', smoker='No', day='Sun', time='Dinner', size=4)]"
      ]
     },
     "execution_count": 6,
     "metadata": {},
     "output_type": "execute_result"
    }
   ],
   "source": [
    "df.head(5)"
   ]
  },
  {
   "cell_type": "code",
   "execution_count": 8,
   "id": "textile-visitor",
   "metadata": {},
   "outputs": [
    {
     "name": "stdout",
     "output_type": "stream",
     "text": [
      "+----------+----+------+------+---+------+----+\n",
      "|total_bill| tip|   sex|smoker|day|  time|size|\n",
      "+----------+----+------+------+---+------+----+\n",
      "|     16.99|1.01|Female|    No|Sun|Dinner|   2|\n",
      "|     10.34|1.66|  Male|    No|Sun|Dinner|   3|\n",
      "|     21.01| 3.5|  Male|    No|Sun|Dinner|   3|\n",
      "|     23.68|3.31|  Male|    No|Sun|Dinner|   2|\n",
      "|     24.59|3.61|Female|    No|Sun|Dinner|   4|\n",
      "|     25.29|4.71|  Male|    No|Sun|Dinner|   4|\n",
      "|      8.77| 2.0|  Male|    No|Sun|Dinner|   2|\n",
      "|     26.88|3.12|  Male|    No|Sun|Dinner|   4|\n",
      "|     15.04|1.96|  Male|    No|Sun|Dinner|   2|\n",
      "|     14.78|3.23|  Male|    No|Sun|Dinner|   2|\n",
      "+----------+----+------+------+---+------+----+\n",
      "only showing top 10 rows\n",
      "\n"
     ]
    }
   ],
   "source": [
    "# Don't do this! it's just a print method\n",
    "# just use .show to view df contents\n",
    "df2 = df.show(10)"
   ]
  },
  {
   "cell_type": "code",
   "execution_count": 9,
   "id": "peaceful-tolerance",
   "metadata": {},
   "outputs": [
    {
     "data": {
      "text/plain": [
       "NoneType"
      ]
     },
     "execution_count": 9,
     "metadata": {},
     "output_type": "execute_result"
    }
   ],
   "source": [
    "type(df2)"
   ]
  },
  {
   "cell_type": "markdown",
   "id": "39ecdb17-0908-4917-bbdf-af2c7718a9fe",
   "metadata": {},
   "source": [
    "### Selecting Columns"
   ]
  },
  {
   "cell_type": "code",
   "execution_count": 10,
   "id": "becoming-frederick",
   "metadata": {},
   "outputs": [
    {
     "name": "stdout",
     "output_type": "stream",
     "text": [
      "+----------+----+----+---+\n",
      "|total_bill| tip|size|day|\n",
      "+----------+----+----+---+\n",
      "|     16.99|1.01|   2|Sun|\n",
      "|     10.34|1.66|   3|Sun|\n",
      "|     21.01| 3.5|   3|Sun|\n",
      "|     23.68|3.31|   2|Sun|\n",
      "|     24.59|3.61|   4|Sun|\n",
      "|     25.29|4.71|   4|Sun|\n",
      "|      8.77| 2.0|   2|Sun|\n",
      "|     26.88|3.12|   4|Sun|\n",
      "|     15.04|1.96|   2|Sun|\n",
      "|     14.78|3.23|   2|Sun|\n",
      "|     10.27|1.71|   2|Sun|\n",
      "|     35.26| 5.0|   4|Sun|\n",
      "|     15.42|1.57|   2|Sun|\n",
      "|     18.43| 3.0|   4|Sun|\n",
      "|     14.83|3.02|   2|Sun|\n",
      "|     21.58|3.92|   2|Sun|\n",
      "|     10.33|1.67|   3|Sun|\n",
      "|     16.29|3.71|   3|Sun|\n",
      "|     16.97| 3.5|   3|Sun|\n",
      "|     20.65|3.35|   3|Sat|\n",
      "+----------+----+----+---+\n",
      "only showing top 20 rows\n",
      "\n"
     ]
    }
   ],
   "source": [
    "df.select('total_bill', 'tip', 'size', 'day').show()"
   ]
  },
  {
   "cell_type": "code",
   "execution_count": 11,
   "id": "headed-rhythm",
   "metadata": {},
   "outputs": [
    {
     "data": {
      "text/plain": [
       "DataFrame[total_bill: double, tip: double, sex: string, smoker: string, day: string, time: string, size: bigint]"
      ]
     },
     "execution_count": 11,
     "metadata": {},
     "output_type": "execute_result"
    }
   ],
   "source": [
    "df.select('*')"
   ]
  },
  {
   "cell_type": "code",
   "execution_count": 12,
   "id": "loaded-salvation",
   "metadata": {},
   "outputs": [
    {
     "name": "stdout",
     "output_type": "stream",
     "text": [
      "+-------------------+\n",
      "| (tip / total_bill)|\n",
      "+-------------------+\n",
      "|0.05944673337257211|\n",
      "|0.16054158607350097|\n",
      "|0.16658733936220846|\n",
      "| 0.1397804054054054|\n",
      "|0.14680764538430255|\n",
      "+-------------------+\n",
      "only showing top 5 rows\n",
      "\n"
     ]
    }
   ],
   "source": [
    "df.select(df.tip / df.total_bill).show(5)"
   ]
  },
  {
   "cell_type": "code",
   "execution_count": 13,
   "id": "extended-portsmouth",
   "metadata": {},
   "outputs": [
    {
     "data": {
      "text/plain": [
       "Column<'(tip / total_bill)'>"
      ]
     },
     "execution_count": 13,
     "metadata": {},
     "output_type": "execute_result"
    }
   ],
   "source": [
    "col = df.tip / df.total_bill\n",
    "col"
   ]
  },
  {
   "cell_type": "code",
   "execution_count": 14,
   "id": "sharing-enclosure",
   "metadata": {},
   "outputs": [
    {
     "name": "stdout",
     "output_type": "stream",
     "text": [
      "+----------+----+------+------+---+------+----+-------------------+\n",
      "|total_bill| tip|   sex|smoker|day|  time|size|            tip_pct|\n",
      "+----------+----+------+------+---+------+----+-------------------+\n",
      "|     16.99|1.01|Female|    No|Sun|Dinner|   2|0.05944673337257211|\n",
      "|     10.34|1.66|  Male|    No|Sun|Dinner|   3|0.16054158607350097|\n",
      "|     21.01| 3.5|  Male|    No|Sun|Dinner|   3|0.16658733936220846|\n",
      "|     23.68|3.31|  Male|    No|Sun|Dinner|   2| 0.1397804054054054|\n",
      "|     24.59|3.61|Female|    No|Sun|Dinner|   4|0.14680764538430255|\n",
      "+----------+----+------+------+---+------+----+-------------------+\n",
      "only showing top 5 rows\n",
      "\n"
     ]
    }
   ],
   "source": [
    "#alias is naming a column, like such and such AS new_name\n",
    "df.select('*', col.alias('tip_pct')).show(5)"
   ]
  },
  {
   "cell_type": "code",
   "execution_count": 15,
   "id": "joined-router",
   "metadata": {},
   "outputs": [],
   "source": [
    "# how to get your column with a new df\n",
    "df_with_tip_pct = df.select('*', col.alias('tip_pct'))"
   ]
  },
  {
   "cell_type": "code",
   "execution_count": 16,
   "id": "according-enhancement",
   "metadata": {},
   "outputs": [
    {
     "name": "stdout",
     "output_type": "stream",
     "text": [
      "+----------+----+------+------+---+------+----+-------------------+\n",
      "|total_bill| tip|   sex|smoker|day|  time|size|            tip_pct|\n",
      "+----------+----+------+------+---+------+----+-------------------+\n",
      "|     16.99|1.01|Female|    No|Sun|Dinner|   2|0.05944673337257211|\n",
      "|     10.34|1.66|  Male|    No|Sun|Dinner|   3|0.16054158607350097|\n",
      "|     21.01| 3.5|  Male|    No|Sun|Dinner|   3|0.16658733936220846|\n",
      "|     23.68|3.31|  Male|    No|Sun|Dinner|   2| 0.1397804054054054|\n",
      "|     24.59|3.61|Female|    No|Sun|Dinner|   4|0.14680764538430255|\n",
      "+----------+----+------+------+---+------+----+-------------------+\n",
      "only showing top 5 rows\n",
      "\n"
     ]
    }
   ],
   "source": [
    "df_with_tip_pct.show(5)"
   ]
  },
  {
   "cell_type": "markdown",
   "id": "b35273ae-b101-4d4a-ad4b-924d3ed4b6d1",
   "metadata": {},
   "source": [
    "To add columns to a spark dataframe, we need to create a new variable."
   ]
  },
  {
   "cell_type": "markdown",
   "id": "5dc1b18e-8155-46c1-b82e-09ee06a31caf",
   "metadata": {},
   "source": [
    "### Selecting w/ Built In Functions"
   ]
  },
  {
   "cell_type": "code",
   "execution_count": 17,
   "id": "excited-fleece",
   "metadata": {},
   "outputs": [],
   "source": [
    "from pyspark.sql.functions import sum, mean, concat, lit, regexp_extract, regexp_replace, when"
   ]
  },
  {
   "cell_type": "code",
   "execution_count": 19,
   "id": "3c0a94d3-262f-4dd7-a08f-dafa635f67c6",
   "metadata": {},
   "outputs": [
    {
     "data": {
      "text/plain": [
       "Column<'avg(tip)'>"
      ]
     },
     "execution_count": 19,
     "metadata": {},
     "output_type": "execute_result"
    }
   ],
   "source": [
    "mean(df.tip)"
   ]
  },
  {
   "cell_type": "code",
   "execution_count": 18,
   "id": "strong-barcelona",
   "metadata": {},
   "outputs": [
    {
     "name": "stdout",
     "output_type": "stream",
     "text": [
      "+------------------+-----------------+\n",
      "|          avg(tip)|  sum(total_bill)|\n",
      "+------------------+-----------------+\n",
      "|2.9982786885245907|4827.769999999999|\n",
      "+------------------+-----------------+\n",
      "\n"
     ]
    }
   ],
   "source": [
    "df.select(mean(df.tip), sum(df.total_bill)).show()"
   ]
  },
  {
   "cell_type": "code",
   "execution_count": 20,
   "id": "surrounded-poster",
   "metadata": {},
   "outputs": [
    {
     "name": "stdout",
     "output_type": "stream",
     "text": [
      "+--------------------+\n",
      "|concat(day,  , time)|\n",
      "+--------------------+\n",
      "|          Sun Dinner|\n",
      "|          Sun Dinner|\n",
      "|          Sun Dinner|\n",
      "|          Sun Dinner|\n",
      "|          Sun Dinner|\n",
      "+--------------------+\n",
      "only showing top 5 rows\n",
      "\n"
     ]
    }
   ],
   "source": [
    "# have to use lit (aka string literal) \n",
    "# it's looking for a column named ' ' (space)\n",
    "df.select(concat('day', lit(' '), 'time')).show(5)"
   ]
  },
  {
   "cell_type": "code",
   "execution_count": 21,
   "id": "higher-brazilian",
   "metadata": {},
   "outputs": [
    {
     "name": "stdout",
     "output_type": "stream",
     "text": [
      "+----+\n",
      "|time|\n",
      "+----+\n",
      "|null|\n",
      "|null|\n",
      "|null|\n",
      "|null|\n",
      "|null|\n",
      "+----+\n",
      "only showing top 5 rows\n",
      "\n"
     ]
    }
   ],
   "source": [
    "df.select(df.time.cast('int')).show(5)"
   ]
  },
  {
   "cell_type": "code",
   "execution_count": 22,
   "id": "employed-stuff",
   "metadata": {},
   "outputs": [],
   "source": [
    "df = df.select(\n",
    "    '*',\n",
    "    (df.tip / df.total_bill).alias('tip_pct')\n",
    ")"
   ]
  },
  {
   "cell_type": "code",
   "execution_count": 23,
   "id": "686e78d1-08b9-4a01-b0a5-0a938d083c97",
   "metadata": {},
   "outputs": [
    {
     "data": {
      "text/plain": [
       "DataFrame[total_bill: double, tip: double, sex: string, smoker: string, day: string, time: string, size: bigint, tip_pct: double]"
      ]
     },
     "execution_count": 23,
     "metadata": {},
     "output_type": "execute_result"
    }
   ],
   "source": [
    "df"
   ]
  },
  {
   "cell_type": "markdown",
   "id": "6ffe548f-0d9f-48f5-92cf-df2631ec8e8b",
   "metadata": {},
   "source": [
    "### When / Otherwise"
   ]
  },
  {
   "cell_type": "code",
   "execution_count": 25,
   "id": "f119d8f1-3120-4a48-9244-65e571397cbf",
   "metadata": {},
   "outputs": [
    {
     "data": {
      "text/plain": [
       "Column<'CASE WHEN (tip_pct > 2) THEN good tip END'>"
      ]
     },
     "execution_count": 25,
     "metadata": {},
     "output_type": "execute_result"
    }
   ],
   "source": [
    "when(df.tip_pct > 2, 'good tip')"
   ]
  },
  {
   "cell_type": "code",
   "execution_count": 28,
   "id": "laughing-posting",
   "metadata": {},
   "outputs": [
    {
     "name": "stdout",
     "output_type": "stream",
     "text": [
      "+-------------------+------------+\n",
      "|            tip_pct|    tip_desc|\n",
      "+-------------------+------------+\n",
      "|0.05944673337257211|not good tip|\n",
      "|0.16054158607350097|not good tip|\n",
      "|0.16658733936220846|not good tip|\n",
      "| 0.1397804054054054|not good tip|\n",
      "|0.14680764538430255|not good tip|\n",
      "|0.18623962040332148|not good tip|\n",
      "|0.22805017103762829|    good tip|\n",
      "|0.11607142857142858|not good tip|\n",
      "|0.13031914893617022|not good tip|\n",
      "| 0.2185385656292287|    good tip|\n",
      "+-------------------+------------+\n",
      "only showing top 10 rows\n",
      "\n"
     ]
    }
   ],
   "source": [
    "df.select(\n",
    "    'tip_pct',\n",
    "    (when(df.tip_pct > .2, 'good tip')\n",
    "     .otherwise('not good tip')\n",
    "     .alias('tip_desc'))\n",
    ").show(10)"
   ]
  },
  {
   "cell_type": "markdown",
   "id": "07ab6553-9ffa-4f91-9058-42a9cdb3e388",
   "metadata": {},
   "source": [
    "### Regex"
   ]
  },
  {
   "cell_type": "code",
   "execution_count": 29,
   "id": "b6b0628f-bbd4-4d52-98a4-1fc4db9b5e6d",
   "metadata": {},
   "outputs": [
    {
     "name": "stdout",
     "output_type": "stream",
     "text": [
      "+------+------------+-----------------------------------+\n",
      "|  time|first_letter|regexp_replace(time, [aeiou], X, 1)|\n",
      "+------+------------+-----------------------------------+\n",
      "|Dinner|           D|                             DXnnXr|\n",
      "|Dinner|           D|                             DXnnXr|\n",
      "|Dinner|           D|                             DXnnXr|\n",
      "|Dinner|           D|                             DXnnXr|\n",
      "|Dinner|           D|                             DXnnXr|\n",
      "+------+------------+-----------------------------------+\n",
      "only showing top 5 rows\n",
      "\n"
     ]
    }
   ],
   "source": [
    "df.select(\n",
    "    'time',\n",
    "    regexp_extract('time', r'(\\w).*', 1).alias('first_letter'),\n",
    "    regexp_replace('time', r'[aeiou]', 'X')\n",
    ").show(5)"
   ]
  },
  {
   "cell_type": "markdown",
   "id": "conservative-reward",
   "metadata": {},
   "source": [
    "## Transforming Rows"
   ]
  },
  {
   "cell_type": "code",
   "execution_count": 30,
   "id": "decreased-diabetes",
   "metadata": {},
   "outputs": [
    {
     "name": "stdout",
     "output_type": "stream",
     "text": [
      "+----------+----+------+------+---+------+----+-------------------+\n",
      "|total_bill| tip|   sex|smoker|day|  time|size|            tip_pct|\n",
      "+----------+----+------+------+---+------+----+-------------------+\n",
      "|     16.99|1.01|Female|    No|Sun|Dinner|   2|0.05944673337257211|\n",
      "|     10.34|1.66|  Male|    No|Sun|Dinner|   3|0.16054158607350097|\n",
      "|     21.01| 3.5|  Male|    No|Sun|Dinner|   3|0.16658733936220846|\n",
      "|     23.68|3.31|  Male|    No|Sun|Dinner|   2| 0.1397804054054054|\n",
      "|     24.59|3.61|Female|    No|Sun|Dinner|   4|0.14680764538430255|\n",
      "|     25.29|4.71|  Male|    No|Sun|Dinner|   4|0.18623962040332148|\n",
      "|      8.77| 2.0|  Male|    No|Sun|Dinner|   2|0.22805017103762829|\n",
      "|     26.88|3.12|  Male|    No|Sun|Dinner|   4|0.11607142857142858|\n",
      "|     15.04|1.96|  Male|    No|Sun|Dinner|   2|0.13031914893617022|\n",
      "|     14.78|3.23|  Male|    No|Sun|Dinner|   2| 0.2185385656292287|\n",
      "|     10.27|1.71|  Male|    No|Sun|Dinner|   2| 0.1665043816942551|\n",
      "|     35.26| 5.0|Female|    No|Sun|Dinner|   4|0.14180374361883155|\n",
      "|     15.42|1.57|  Male|    No|Sun|Dinner|   2|0.10181582360570687|\n",
      "|     18.43| 3.0|  Male|    No|Sun|Dinner|   4|0.16277807921866522|\n",
      "|     14.83|3.02|Female|    No|Sun|Dinner|   2|0.20364126770060686|\n",
      "|     21.58|3.92|  Male|    No|Sun|Dinner|   2|0.18164967562557924|\n",
      "|     10.33|1.67|Female|    No|Sun|Dinner|   3| 0.1616650532429816|\n",
      "|     16.29|3.71|  Male|    No|Sun|Dinner|   3|0.22774708410067526|\n",
      "|     16.97| 3.5|Female|    No|Sun|Dinner|   3|0.20624631703005306|\n",
      "|     20.65|3.35|  Male|    No|Sat|Dinner|   3|0.16222760290556903|\n",
      "+----------+----+------+------+---+------+----+-------------------+\n",
      "only showing top 20 rows\n",
      "\n"
     ]
    }
   ],
   "source": [
    "df.show()"
   ]
  },
  {
   "cell_type": "markdown",
   "id": "881d4fdf-7fce-4756-8d36-36de8b159a40",
   "metadata": {},
   "source": [
    "### Sorting"
   ]
  },
  {
   "cell_type": "code",
   "execution_count": 31,
   "id": "violent-celebrity",
   "metadata": {},
   "outputs": [
    {
     "name": "stdout",
     "output_type": "stream",
     "text": [
      "+----------+----+------+------+----+------+----+-------------------+\n",
      "|total_bill| tip|   sex|smoker| day|  time|size|            tip_pct|\n",
      "+----------+----+------+------+----+------+----+-------------------+\n",
      "|      3.07| 1.0|Female|   Yes| Sat|Dinner|   1|0.32573289902280134|\n",
      "|      5.75| 1.0|Female|   Yes| Fri|Dinner|   2|0.17391304347826086|\n",
      "|      7.25| 1.0|Female|    No| Sat|Dinner|   1|0.13793103448275862|\n",
      "|      7.25|5.15|  Male|   Yes| Sun|Dinner|   2|  0.710344827586207|\n",
      "|      7.51| 2.0|  Male|    No|Thur| Lunch|   2| 0.2663115845539281|\n",
      "|      7.56|1.44|  Male|    No|Thur| Lunch|   2|0.19047619047619047|\n",
      "|      7.74|1.44|  Male|   Yes| Sat|Dinner|   2|0.18604651162790697|\n",
      "|      8.35| 1.5|Female|    No|Thur| Lunch|   2|0.17964071856287425|\n",
      "|      8.51|1.25|Female|    No|Thur| Lunch|   2|0.14688601645123384|\n",
      "|      8.52|1.48|  Male|    No|Thur| Lunch|   2|0.17370892018779344|\n",
      "|      8.58|1.92|  Male|   Yes| Fri| Lunch|   1|0.22377622377622378|\n",
      "|      8.77| 2.0|  Male|    No| Sun|Dinner|   2|0.22805017103762829|\n",
      "|      9.55|1.45|  Male|    No| Sat|Dinner|   2| 0.1518324607329843|\n",
      "|       9.6| 4.0|Female|   Yes| Sun|Dinner|   2| 0.4166666666666667|\n",
      "|      9.68|1.32|  Male|    No| Sun|Dinner|   2|0.13636363636363638|\n",
      "|      9.78|1.73|  Male|    No|Thur| Lunch|   2| 0.1768916155419223|\n",
      "|      9.94|1.56|  Male|    No| Sun|Dinner|   2|0.15694164989939638|\n",
      "|     10.07|1.83|Female|    No|Thur| Lunch|   1| 0.1817279046673287|\n",
      "|     10.07|1.25|  Male|    No| Sat|Dinner|   2|0.12413108242303872|\n",
      "|     10.09| 2.0|Female|   Yes| Fri| Lunch|   2|0.19821605550049554|\n",
      "+----------+----+------+------+----+------+----+-------------------+\n",
      "only showing top 20 rows\n",
      "\n"
     ]
    }
   ],
   "source": [
    "df.orderBy(df.total_bill).show()"
   ]
  },
  {
   "cell_type": "code",
   "execution_count": 32,
   "id": "round-february",
   "metadata": {},
   "outputs": [
    {
     "name": "stdout",
     "output_type": "stream",
     "text": [
      "+----------+----+------+------+---+------+----+-------------------+\n",
      "|total_bill| tip|   sex|smoker|day|  time|size|            tip_pct|\n",
      "+----------+----+------+------+---+------+----+-------------------+\n",
      "|      8.58|1.92|  Male|   Yes|Fri| Lunch|   1|0.22377622377622378|\n",
      "|     12.46| 1.5|  Male|    No|Fri|Dinner|   2| 0.1203852327447833|\n",
      "|     12.03| 1.5|  Male|   Yes|Fri|Dinner|   2|0.12468827930174564|\n",
      "|     16.32| 4.3|Female|   Yes|Fri|Dinner|   2|0.26348039215686275|\n",
      "|     13.42|1.58|  Male|   Yes|Fri| Lunch|   2|0.11773472429210134|\n",
      "|     15.38| 3.0|Female|   Yes|Fri|Dinner|   2|0.19505851755526657|\n",
      "|     11.35| 2.5|Female|   Yes|Fri|Dinner|   2|0.22026431718061676|\n",
      "|     28.97| 3.0|  Male|   Yes|Fri|Dinner|   2|0.10355540214014498|\n",
      "|     27.28| 4.0|  Male|   Yes|Fri|Dinner|   2|0.14662756598240467|\n",
      "|      5.75| 1.0|Female|   Yes|Fri|Dinner|   2|0.17391304347826086|\n",
      "|     22.49| 3.5|  Male|    No|Fri|Dinner|   2|0.15562472209871056|\n",
      "|     21.01| 3.0|  Male|   Yes|Fri|Dinner|   2| 0.1427891480247501|\n",
      "|     12.16| 2.2|  Male|   Yes|Fri| Lunch|   2|0.18092105263157895|\n",
      "|     10.09| 2.0|Female|   Yes|Fri| Lunch|   2|0.19821605550049554|\n",
      "|     13.42|3.48|Female|   Yes|Fri| Lunch|   2| 0.2593144560357675|\n",
      "|     16.27| 2.5|Female|   Yes|Fri| Lunch|   2|0.15365703749231716|\n",
      "|     22.75|3.25|Female|    No|Fri|Dinner|   2|0.14285714285714285|\n",
      "|     15.98| 3.0|Female|    No|Fri| Lunch|   3|0.18773466833541927|\n",
      "|     40.17|4.73|  Male|   Yes|Fri|Dinner|   4| 0.1177495643515061|\n",
      "|      3.07| 1.0|Female|   Yes|Sat|Dinner|   1|0.32573289902280134|\n",
      "+----------+----+------+------+---+------+----+-------------------+\n",
      "only showing top 20 rows\n",
      "\n"
     ]
    }
   ],
   "source": [
    "df.sort(df.day, df.size).show()"
   ]
  },
  {
   "cell_type": "code",
   "execution_count": 33,
   "id": "collected-landscape",
   "metadata": {},
   "outputs": [],
   "source": [
    "from pyspark.sql.functions import asc, desc, col"
   ]
  },
  {
   "cell_type": "code",
   "execution_count": 34,
   "id": "active-prairie",
   "metadata": {},
   "outputs": [
    {
     "name": "stdout",
     "output_type": "stream",
     "text": [
      "+----------+----+------+------+---+------+----+-------------------+\n",
      "|total_bill| tip|   sex|smoker|day|  time|size|            tip_pct|\n",
      "+----------+----+------+------+---+------+----+-------------------+\n",
      "|     40.17|4.73|  Male|   Yes|Fri|Dinner|   4| 0.1177495643515061|\n",
      "|     28.97| 3.0|  Male|   Yes|Fri|Dinner|   2|0.10355540214014498|\n",
      "|     11.35| 2.5|Female|   Yes|Fri|Dinner|   2|0.22026431718061676|\n",
      "|     27.28| 4.0|  Male|   Yes|Fri|Dinner|   2|0.14662756598240467|\n",
      "|     21.01| 3.0|  Male|   Yes|Fri|Dinner|   2| 0.1427891480247501|\n",
      "|     12.03| 1.5|  Male|   Yes|Fri|Dinner|   2|0.12468827930174564|\n",
      "|     12.46| 1.5|  Male|    No|Fri|Dinner|   2| 0.1203852327447833|\n",
      "|     16.32| 4.3|Female|   Yes|Fri|Dinner|   2|0.26348039215686275|\n",
      "|     15.38| 3.0|Female|   Yes|Fri|Dinner|   2|0.19505851755526657|\n",
      "|     22.49| 3.5|  Male|    No|Fri|Dinner|   2|0.15562472209871056|\n",
      "|      5.75| 1.0|Female|   Yes|Fri|Dinner|   2|0.17391304347826086|\n",
      "|     22.75|3.25|Female|    No|Fri|Dinner|   2|0.14285714285714285|\n",
      "|     15.98| 3.0|Female|    No|Fri| Lunch|   3|0.18773466833541927|\n",
      "|     13.42|3.48|Female|   Yes|Fri| Lunch|   2| 0.2593144560357675|\n",
      "|     13.42|1.58|  Male|   Yes|Fri| Lunch|   2|0.11773472429210134|\n",
      "|     10.09| 2.0|Female|   Yes|Fri| Lunch|   2|0.19821605550049554|\n",
      "|     12.16| 2.2|  Male|   Yes|Fri| Lunch|   2|0.18092105263157895|\n",
      "|     16.27| 2.5|Female|   Yes|Fri| Lunch|   2|0.15365703749231716|\n",
      "|      8.58|1.92|  Male|   Yes|Fri| Lunch|   1|0.22377622377622378|\n",
      "|     28.15| 3.0|  Male|   Yes|Sat|Dinner|   5|0.10657193605683837|\n",
      "+----------+----+------+------+---+------+----+-------------------+\n",
      "only showing top 20 rows\n",
      "\n"
     ]
    }
   ],
   "source": [
    "df.sort(df.day, asc('time'), desc('size')).show()"
   ]
  },
  {
   "cell_type": "code",
   "execution_count": 35,
   "id": "dominican-cherry",
   "metadata": {},
   "outputs": [
    {
     "data": {
      "text/plain": [
       "Column<'size ASC NULLS FIRST'>"
      ]
     },
     "execution_count": 35,
     "metadata": {},
     "output_type": "execute_result"
    }
   ],
   "source": [
    "col('size').asc()"
   ]
  },
  {
   "cell_type": "code",
   "execution_count": 36,
   "id": "mexican-daniel",
   "metadata": {},
   "outputs": [
    {
     "name": "stdout",
     "output_type": "stream",
     "text": [
      "+----------+----+------+------+----+------+----+-------------------+\n",
      "|total_bill| tip|   sex|smoker| day|  time|size|            tip_pct|\n",
      "+----------+----+------+------+----+------+----+-------------------+\n",
      "|     48.17| 5.0|  Male|    No| Sun|Dinner|   6|0.10379904504878555|\n",
      "|     27.05| 5.0|Female|    No|Thur| Lunch|   6|0.18484288354898337|\n",
      "|      29.8| 4.2|Female|    No|Thur| Lunch|   6|0.14093959731543623|\n",
      "|      34.3| 6.7|  Male|    No|Thur| Lunch|   6|0.19533527696793004|\n",
      "|     29.85|5.14|Female|    No| Sun|Dinner|   5| 0.1721943048576214|\n",
      "|     28.15| 3.0|  Male|   Yes| Sat|Dinner|   5|0.10657193605683837|\n",
      "|     20.69| 5.0|  Male|    No| Sun|Dinner|   5| 0.2416626389560174|\n",
      "|     30.46| 2.0|  Male|   Yes| Sun|Dinner|   5|0.06565988181221273|\n",
      "|     41.19| 5.0|  Male|    No|Thur| Lunch|   5|0.12138868657441128|\n",
      "|     17.81|2.34|  Male|    No| Sat|Dinner|   4|0.13138686131386862|\n",
      "|      32.4| 6.0|  Male|    No| Sun|Dinner|   4| 0.1851851851851852|\n",
      "|     24.59|3.61|Female|    No| Sun|Dinner|   4|0.14680764538430255|\n",
      "|     26.88|3.12|  Male|    No| Sun|Dinner|   4|0.11607142857142858|\n",
      "|     18.43| 3.0|  Male|    No| Sun|Dinner|   4|0.16277807921866522|\n",
      "|     25.56|4.34|  Male|    No| Sun|Dinner|   4| 0.1697965571205008|\n",
      "|     25.29|4.71|  Male|    No| Sun|Dinner|   4|0.18623962040332148|\n",
      "|     34.81| 5.2|Female|    No| Sun|Dinner|   4|0.14938236139040506|\n",
      "|     18.35| 2.5|  Male|    No| Sat|Dinner|   4|0.13623978201634876|\n",
      "|      30.4| 5.6|  Male|    No| Sun|Dinner|   4|0.18421052631578946|\n",
      "|     38.01| 3.0|  Male|   Yes| Sat|Dinner|   4|0.07892659826361484|\n",
      "+----------+----+------+------+----+------+----+-------------------+\n",
      "only showing top 20 rows\n",
      "\n"
     ]
    }
   ],
   "source": [
    "df.sort(col('size').desc(), col('time')).show()"
   ]
  },
  {
   "cell_type": "markdown",
   "id": "ce707546-351b-44f7-a73f-8d68d6e61800",
   "metadata": {},
   "source": [
    "### Filtering"
   ]
  },
  {
   "cell_type": "code",
   "execution_count": 37,
   "id": "5cccbd8f-7c0c-4eef-a305-4fc936df4d55",
   "metadata": {},
   "outputs": [
    {
     "data": {
      "text/plain": [
       "Column<'(tip < 4)'>"
      ]
     },
     "execution_count": 37,
     "metadata": {},
     "output_type": "execute_result"
    }
   ],
   "source": [
    "df.tip < 4"
   ]
  },
  {
   "cell_type": "code",
   "execution_count": 38,
   "id": "included-comparison",
   "metadata": {},
   "outputs": [
    {
     "name": "stdout",
     "output_type": "stream",
     "text": [
      "+----------+----+------+------+---+------+----+-------------------+\n",
      "|total_bill| tip|   sex|smoker|day|  time|size|            tip_pct|\n",
      "+----------+----+------+------+---+------+----+-------------------+\n",
      "|     16.99|1.01|Female|    No|Sun|Dinner|   2|0.05944673337257211|\n",
      "|     10.34|1.66|  Male|    No|Sun|Dinner|   3|0.16054158607350097|\n",
      "|     21.01| 3.5|  Male|    No|Sun|Dinner|   3|0.16658733936220846|\n",
      "|     23.68|3.31|  Male|    No|Sun|Dinner|   2| 0.1397804054054054|\n",
      "|     24.59|3.61|Female|    No|Sun|Dinner|   4|0.14680764538430255|\n",
      "|      8.77| 2.0|  Male|    No|Sun|Dinner|   2|0.22805017103762829|\n",
      "|     26.88|3.12|  Male|    No|Sun|Dinner|   4|0.11607142857142858|\n",
      "|     15.04|1.96|  Male|    No|Sun|Dinner|   2|0.13031914893617022|\n",
      "|     14.78|3.23|  Male|    No|Sun|Dinner|   2| 0.2185385656292287|\n",
      "|     10.27|1.71|  Male|    No|Sun|Dinner|   2| 0.1665043816942551|\n",
      "|     15.42|1.57|  Male|    No|Sun|Dinner|   2|0.10181582360570687|\n",
      "|     18.43| 3.0|  Male|    No|Sun|Dinner|   4|0.16277807921866522|\n",
      "|     14.83|3.02|Female|    No|Sun|Dinner|   2|0.20364126770060686|\n",
      "|     21.58|3.92|  Male|    No|Sun|Dinner|   2|0.18164967562557924|\n",
      "|     10.33|1.67|Female|    No|Sun|Dinner|   3| 0.1616650532429816|\n",
      "|     16.29|3.71|  Male|    No|Sun|Dinner|   3|0.22774708410067526|\n",
      "|     16.97| 3.5|Female|    No|Sun|Dinner|   3|0.20624631703005306|\n",
      "|     20.65|3.35|  Male|    No|Sat|Dinner|   3|0.16222760290556903|\n",
      "|     20.29|2.75|Female|    No|Sat|Dinner|   2|0.13553474618038444|\n",
      "|     15.77|2.23|Female|    No|Sat|Dinner|   2|0.14140773620798985|\n",
      "+----------+----+------+------+---+------+----+-------------------+\n",
      "only showing top 20 rows\n",
      "\n"
     ]
    }
   ],
   "source": [
    "# pandas: df[df.tip < 4]\n",
    "df.where(df.tip < 4).show()"
   ]
  },
  {
   "cell_type": "code",
   "execution_count": 40,
   "id": "3cc6fe79-79f6-4519-a47e-2397f1985eb3",
   "metadata": {},
   "outputs": [
    {
     "name": "stdout",
     "output_type": "stream",
     "text": [
      "+----------+----+----+------+---+------+----+-------------------+\n",
      "|total_bill| tip| sex|smoker|day|  time|size|            tip_pct|\n",
      "+----------+----+----+------+---+------+----+-------------------+\n",
      "|     38.01| 3.0|Male|   Yes|Sat|Dinner|   4|0.07892659826361484|\n",
      "|     11.24|1.76|Male|   Yes|Sat|Dinner|   2|0.15658362989323843|\n",
      "|     20.29|3.21|Male|   Yes|Sat|Dinner|   2| 0.1582060128141942|\n",
      "|     13.81| 2.0|Male|   Yes|Sat|Dinner|   2| 0.1448225923244026|\n",
      "|     11.02|1.98|Male|   Yes|Sat|Dinner|   2|0.17967332123411978|\n",
      "+----------+----+----+------+---+------+----+-------------------+\n",
      "only showing top 5 rows\n",
      "\n"
     ]
    }
   ],
   "source": [
    "df.where(df.tip < 4).where(df.smoker == 'Yes').show(5)"
   ]
  },
  {
   "cell_type": "code",
   "execution_count": 41,
   "id": "dcf69353-5790-4f08-b7a5-679d850036a1",
   "metadata": {},
   "outputs": [
    {
     "name": "stdout",
     "output_type": "stream",
     "text": [
      "+----------+----+------+------+---+------+----+-------------------+\n",
      "|total_bill| tip|   sex|smoker|day|  time|size|            tip_pct|\n",
      "+----------+----+------+------+---+------+----+-------------------+\n",
      "|     16.99|1.01|Female|    No|Sun|Dinner|   2|0.05944673337257211|\n",
      "|     10.34|1.66|  Male|    No|Sun|Dinner|   3|0.16054158607350097|\n",
      "|     21.01| 3.5|  Male|    No|Sun|Dinner|   3|0.16658733936220846|\n",
      "|     23.68|3.31|  Male|    No|Sun|Dinner|   2| 0.1397804054054054|\n",
      "|     24.59|3.61|Female|    No|Sun|Dinner|   4|0.14680764538430255|\n",
      "+----------+----+------+------+---+------+----+-------------------+\n",
      "only showing top 5 rows\n",
      "\n"
     ]
    }
   ],
   "source": [
    "df.where((df.tip<4) | (df.smoker == 'Yes')).show(5)"
   ]
  },
  {
   "cell_type": "markdown",
   "id": "27cbb46c-4a55-4aa5-b74b-fec747c48fc2",
   "metadata": {},
   "source": [
    "Sidebar: Spark Performance\n",
    "\n",
    "A *Shuffle* is required when we have to look at all the partitions to get the data."
   ]
  },
  {
   "cell_type": "code",
   "execution_count": 42,
   "id": "precious-preparation",
   "metadata": {},
   "outputs": [
    {
     "name": "stdout",
     "output_type": "stream",
     "text": [
      "+----------+----+------+------+---+------+----+-------------------+\n",
      "|total_bill| tip|   sex|smoker|day|  time|size|            tip_pct|\n",
      "+----------+----+------+------+---+------+----+-------------------+\n",
      "|     16.99|1.01|Female|    No|Sun|Dinner|   2|0.05944673337257211|\n",
      "|     10.34|1.66|  Male|    No|Sun|Dinner|   3|0.16054158607350097|\n",
      "|     21.01| 3.5|  Male|    No|Sun|Dinner|   3|0.16658733936220846|\n",
      "|     23.68|3.31|  Male|    No|Sun|Dinner|   2| 0.1397804054054054|\n",
      "|     24.59|3.61|Female|    No|Sun|Dinner|   4|0.14680764538430255|\n",
      "|      8.77| 2.0|  Male|    No|Sun|Dinner|   2|0.22805017103762829|\n",
      "|     26.88|3.12|  Male|    No|Sun|Dinner|   4|0.11607142857142858|\n",
      "|     15.04|1.96|  Male|    No|Sun|Dinner|   2|0.13031914893617022|\n",
      "|     14.78|3.23|  Male|    No|Sun|Dinner|   2| 0.2185385656292287|\n",
      "|     10.27|1.71|  Male|    No|Sun|Dinner|   2| 0.1665043816942551|\n",
      "|     15.42|1.57|  Male|    No|Sun|Dinner|   2|0.10181582360570687|\n",
      "|     18.43| 3.0|  Male|    No|Sun|Dinner|   4|0.16277807921866522|\n",
      "|     14.83|3.02|Female|    No|Sun|Dinner|   2|0.20364126770060686|\n",
      "|     21.58|3.92|  Male|    No|Sun|Dinner|   2|0.18164967562557924|\n",
      "|     10.33|1.67|Female|    No|Sun|Dinner|   3| 0.1616650532429816|\n",
      "|     16.29|3.71|  Male|    No|Sun|Dinner|   3|0.22774708410067526|\n",
      "|     16.97| 3.5|Female|    No|Sun|Dinner|   3|0.20624631703005306|\n",
      "|     20.65|3.35|  Male|    No|Sat|Dinner|   3|0.16222760290556903|\n",
      "|     20.29|2.75|Female|    No|Sat|Dinner|   2|0.13553474618038444|\n",
      "|     15.77|2.23|Female|    No|Sat|Dinner|   2|0.14140773620798985|\n",
      "+----------+----+------+------+---+------+----+-------------------+\n",
      "only showing top 20 rows\n",
      "\n"
     ]
    }
   ],
   "source": [
    "mask = df.tip < 4\n",
    "df.where(mask).show()"
   ]
  },
  {
   "cell_type": "code",
   "execution_count": 43,
   "id": "flush-gothic",
   "metadata": {},
   "outputs": [
    {
     "name": "stdout",
     "output_type": "stream",
     "text": [
      "+----------+----+------+------+----+------+----+-------------------+\n",
      "|total_bill| tip|   sex|smoker| day|  time|size|            tip_pct|\n",
      "+----------+----+------+------+----+------+----+-------------------+\n",
      "|      12.6| 1.0|  Male|   Yes| Sat|Dinner|   2|0.07936507936507936|\n",
      "|      5.75| 1.0|Female|   Yes| Fri|Dinner|   2|0.17391304347826086|\n",
      "|      3.07| 1.0|Female|   Yes| Sat|Dinner|   1|0.32573289902280134|\n",
      "|      7.25| 1.0|Female|    No| Sat|Dinner|   1|0.13793103448275862|\n",
      "|     16.99|1.01|Female|    No| Sun|Dinner|   2|0.05944673337257211|\n",
      "|      12.9| 1.1|Female|   Yes| Sat|Dinner|   2|0.08527131782945736|\n",
      "|     32.83|1.17|  Male|   Yes| Sat|Dinner|   2|0.03563813585135547|\n",
      "|      8.51|1.25|Female|    No|Thur| Lunch|   2|0.14688601645123384|\n",
      "|     10.07|1.25|  Male|    No| Sat|Dinner|   2|0.12413108242303872|\n",
      "|     10.51|1.25|  Male|    No| Sat|Dinner|   2|0.11893434823977164|\n",
      "|      9.68|1.32|  Male|    No| Sun|Dinner|   2|0.13636363636363638|\n",
      "|     18.64|1.36|Female|    No|Thur| Lunch|   3|0.07296137339055794|\n",
      "|      7.56|1.44|  Male|    No|Thur| Lunch|   2|0.19047619047619047|\n",
      "|      7.74|1.44|  Male|   Yes| Sat|Dinner|   2|0.18604651162790697|\n",
      "|      9.55|1.45|  Male|    No| Sat|Dinner|   2| 0.1518324607329843|\n",
      "|     10.77|1.47|  Male|    No| Sat|Dinner|   2|0.13649025069637882|\n",
      "|      8.52|1.48|  Male|    No|Thur| Lunch|   2|0.17370892018779344|\n",
      "|     19.08| 1.5|  Male|    No|Thur| Lunch|   2|0.07861635220125787|\n",
      "|     12.03| 1.5|  Male|   Yes| Fri|Dinner|   2|0.12468827930174564|\n",
      "|     15.69| 1.5|  Male|   Yes| Sun|Dinner|   2|0.09560229445506692|\n",
      "+----------+----+------+------+----+------+----+-------------------+\n",
      "only showing top 20 rows\n",
      "\n"
     ]
    }
   ],
   "source": [
    "df.filter((df.time == \"Dinner\") | (df.tip <= 2)).sort('tip').show()"
   ]
  },
  {
   "cell_type": "markdown",
   "id": "616f998b-a49a-4d7a-93a5-2fb64c7fa591",
   "metadata": {},
   "source": [
    "Chaining `.where` will implicitly AND the conditions together"
   ]
  },
  {
   "cell_type": "code",
   "execution_count": 44,
   "id": "moderate-trade",
   "metadata": {},
   "outputs": [
    {
     "name": "stdout",
     "output_type": "stream",
     "text": [
      "+----------+----+------+------+---+------+----+-------------------+\n",
      "|total_bill| tip|   sex|smoker|day|  time|size|            tip_pct|\n",
      "+----------+----+------+------+---+------+----+-------------------+\n",
      "|     38.01| 3.0|  Male|   Yes|Sat|Dinner|   4|0.07892659826361484|\n",
      "|     11.24|1.76|  Male|   Yes|Sat|Dinner|   2|0.15658362989323843|\n",
      "|     20.29|3.21|  Male|   Yes|Sat|Dinner|   2| 0.1582060128141942|\n",
      "|     13.81| 2.0|  Male|   Yes|Sat|Dinner|   2| 0.1448225923244026|\n",
      "|     11.02|1.98|  Male|   Yes|Sat|Dinner|   2|0.17967332123411978|\n",
      "|     18.29|3.76|  Male|   Yes|Sat|Dinner|   4|0.20557681793329688|\n",
      "|      3.07| 1.0|Female|   Yes|Sat|Dinner|   1|0.32573289902280134|\n",
      "|     15.01|2.09|  Male|   Yes|Sat|Dinner|   2|0.13924050632911392|\n",
      "|     26.86|3.14|Female|   Yes|Sat|Dinner|   2|0.11690245718540582|\n",
      "|     25.28| 5.0|Female|   Yes|Sat|Dinner|   2|0.19778481012658228|\n",
      "|     17.92|3.08|  Male|   Yes|Sat|Dinner|   2|           0.171875|\n",
      "|      44.3| 2.5|Female|   Yes|Sat|Dinner|   3|0.05643340857787811|\n",
      "|     22.42|3.48|Female|   Yes|Sat|Dinner|   2|0.15521855486173058|\n",
      "|     15.36|1.64|  Male|   Yes|Sat|Dinner|   2|0.10677083333333333|\n",
      "|     20.49|4.06|  Male|   Yes|Sat|Dinner|   2|0.19814543679843827|\n",
      "|     25.21|4.29|  Male|   Yes|Sat|Dinner|   2| 0.1701705672352241|\n",
      "|     14.31| 4.0|Female|   Yes|Sat|Dinner|   2| 0.2795248078266946|\n",
      "|     10.59|1.61|Female|   Yes|Sat|Dinner|   2|0.15203021718602455|\n",
      "|     10.63| 2.0|Female|   Yes|Sat|Dinner|   2|0.18814675446848542|\n",
      "|     50.81|10.0|  Male|   Yes|Sat|Dinner|   3|0.19681165124975397|\n",
      "+----------+----+------+------+---+------+----+-------------------+\n",
      "only showing top 20 rows\n",
      "\n"
     ]
    }
   ],
   "source": [
    "df.where(df.smoker == \"Yes\").where(df.day == \"Sat\").show()"
   ]
  },
  {
   "cell_type": "markdown",
   "id": "dc511d88-3fe7-46e3-b5f9-7ced141dda60",
   "metadata": {},
   "source": [
    "`.filter` and `.where` are the same function"
   ]
  },
  {
   "cell_type": "markdown",
   "id": "relevant-radius",
   "metadata": {},
   "source": [
    "## Aggregating"
   ]
  },
  {
   "cell_type": "code",
   "execution_count": 51,
   "id": "varying-membrane",
   "metadata": {},
   "outputs": [],
   "source": [
    "from pyspark.sql.functions import mean, min, max, count"
   ]
  },
  {
   "cell_type": "code",
   "execution_count": 46,
   "id": "certified-seattle",
   "metadata": {},
   "outputs": [
    {
     "name": "stdout",
     "output_type": "stream",
     "text": [
      "+----------+----+------+------+---+------+----+-------------------+\n",
      "|total_bill| tip|   sex|smoker|day|  time|size|            tip_pct|\n",
      "+----------+----+------+------+---+------+----+-------------------+\n",
      "|     16.99|1.01|Female|    No|Sun|Dinner|   2|0.05944673337257211|\n",
      "|     10.34|1.66|  Male|    No|Sun|Dinner|   3|0.16054158607350097|\n",
      "|     21.01| 3.5|  Male|    No|Sun|Dinner|   3|0.16658733936220846|\n",
      "|     23.68|3.31|  Male|    No|Sun|Dinner|   2| 0.1397804054054054|\n",
      "|     24.59|3.61|Female|    No|Sun|Dinner|   4|0.14680764538430255|\n",
      "+----------+----+------+------+---+------+----+-------------------+\n",
      "only showing top 5 rows\n",
      "\n"
     ]
    }
   ],
   "source": [
    "df.show(5)"
   ]
  },
  {
   "cell_type": "code",
   "execution_count": 48,
   "id": "c9b64a35-e357-48fe-ae94-ec618b722f58",
   "metadata": {},
   "outputs": [
    {
     "data": {
      "text/plain": [
       "DataFrame[time: string, avg(tip): double]"
      ]
     },
     "execution_count": 48,
     "metadata": {},
     "output_type": "execute_result"
    }
   ],
   "source": [
    "# this is a transformation\n",
    "df.groupBy('time').agg(mean('tip'))"
   ]
  },
  {
   "cell_type": "code",
   "execution_count": 49,
   "id": "reduced-princeton",
   "metadata": {},
   "outputs": [
    {
     "name": "stdout",
     "output_type": "stream",
     "text": [
      "+------+------------------+\n",
      "|  time|          avg(tip)|\n",
      "+------+------------------+\n",
      "| Lunch|2.7280882352941176|\n",
      "|Dinner| 3.102670454545455|\n",
      "+------+------------------+\n",
      "\n"
     ]
    }
   ],
   "source": [
    "# this is an action\n",
    "df.groupBy('time').agg(mean('tip')).show()"
   ]
  },
  {
   "cell_type": "code",
   "execution_count": 52,
   "id": "940bf6f9-8b99-4e27-864e-87e39f0bab6c",
   "metadata": {},
   "outputs": [
    {
     "name": "stdout",
     "output_type": "stream",
     "text": [
      "+------+--------+\n",
      "|  time|count(1)|\n",
      "+------+--------+\n",
      "| Lunch|      68|\n",
      "|Dinner|     176|\n",
      "+------+--------+\n",
      "\n"
     ]
    }
   ],
   "source": [
    "df.groupBy('time').agg(count('*')).show()"
   ]
  },
  {
   "cell_type": "code",
   "execution_count": 53,
   "id": "capable-stock",
   "metadata": {},
   "outputs": [
    {
     "name": "stdout",
     "output_type": "stream",
     "text": [
      "+------+--------+------------------+--------+\n",
      "|  time|min(tip)|          avg(tip)|max(tip)|\n",
      "+------+--------+------------------+--------+\n",
      "| Lunch|    1.25|2.7280882352941176|     6.7|\n",
      "|Dinner|     1.0| 3.102670454545455|    10.0|\n",
      "+------+--------+------------------+--------+\n",
      "\n"
     ]
    }
   ],
   "source": [
    "df.groupBy('time').agg(min('tip'), mean('tip'), max('tip')).show()"
   ]
  },
  {
   "cell_type": "code",
   "execution_count": 54,
   "id": "animal-mortgage",
   "metadata": {},
   "outputs": [
    {
     "name": "stdout",
     "output_type": "stream",
     "text": [
      "+------+------------------+\n",
      "|  time|           avg_tip|\n",
      "+------+------------------+\n",
      "| Lunch|2.7280882352941176|\n",
      "|Dinner| 3.102670454545455|\n",
      "+------+------------------+\n",
      "\n"
     ]
    }
   ],
   "source": [
    "df.groupBy('time').agg(mean('tip').alias('avg_tip')).show()"
   ]
  },
  {
   "cell_type": "code",
   "execution_count": 55,
   "id": "knowing-africa",
   "metadata": {},
   "outputs": [
    {
     "name": "stdout",
     "output_type": "stream",
     "text": [
      "+------+----+------------------+\n",
      "|  time| day|   avg(total_bill)|\n",
      "+------+----+------------------+\n",
      "| Lunch|Thur|17.664754098360653|\n",
      "|Dinner|Thur|             18.78|\n",
      "| Lunch| Fri|12.845714285714285|\n",
      "|Dinner| Fri| 19.66333333333333|\n",
      "|Dinner| Sun|21.409999999999997|\n",
      "|Dinner| Sat|20.441379310344825|\n",
      "+------+----+------------------+\n",
      "\n"
     ]
    }
   ],
   "source": [
    "df.groupBy('time', 'day').agg(mean('total_bill')).show()"
   ]
  },
  {
   "cell_type": "code",
   "execution_count": 56,
   "id": "rocky-ottawa",
   "metadata": {},
   "outputs": [
    {
     "name": "stdout",
     "output_type": "stream",
     "text": [
      "+--------+---+---+---+----+\n",
      "|time_day|Fri|Sat|Sun|Thur|\n",
      "+--------+---+---+---+----+\n",
      "|   Lunch|  7|  0|  0|  61|\n",
      "|  Dinner| 12| 87| 76|   1|\n",
      "+--------+---+---+---+----+\n",
      "\n"
     ]
    }
   ],
   "source": [
    "df.crosstab('time', 'day').show()"
   ]
  },
  {
   "cell_type": "code",
   "execution_count": 58,
   "id": "aacf2f62-2a07-4d5a-abdc-d7dacb08816a",
   "metadata": {},
   "outputs": [
    {
     "name": "stdout",
     "output_type": "stream",
     "text": [
      "+------+----+------------------+\n",
      "|  time| day|   sum(total_bill)|\n",
      "+------+----+------------------+\n",
      "|Dinner| Fri|235.95999999999998|\n",
      "|Dinner| Sat|1778.3999999999996|\n",
      "|Dinner| Sun|1627.1599999999999|\n",
      "|Dinner|Thur|             18.78|\n",
      "| Lunch| Fri|             89.92|\n",
      "| Lunch|Thur|           1077.55|\n",
      "+------+----+------------------+\n",
      "\n"
     ]
    }
   ],
   "source": [
    "df.groupBy('time', 'day').agg(sum('total_bill')).sort('time', 'day').show()"
   ]
  },
  {
   "cell_type": "code",
   "execution_count": 59,
   "id": "78ccf64f-caea-483e-bc0c-3759016397ad",
   "metadata": {},
   "outputs": [
    {
     "name": "stdout",
     "output_type": "stream",
     "text": [
      "+------+------------------+------------------+------------------+-------+\n",
      "|  time|               Fri|               Sat|               Sun|   Thur|\n",
      "+------+------------------+------------------+------------------+-------+\n",
      "| Lunch|             89.92|              null|              null|1077.55|\n",
      "|Dinner|235.95999999999998|1778.3999999999996|1627.1599999999999|  18.78|\n",
      "+------+------------------+------------------+------------------+-------+\n",
      "\n"
     ]
    }
   ],
   "source": [
    "# we change the second groupby to a .pivot and day\n",
    "\n",
    "df.groupBy('time').pivot('day').agg(sum('total_bill')).show()"
   ]
  },
  {
   "cell_type": "code",
   "execution_count": 57,
   "id": "architectural-speaking",
   "metadata": {},
   "outputs": [
    {
     "name": "stdout",
     "output_type": "stream",
     "text": [
      "+------+------------------+------------------+------------------+------------------+\n",
      "|  time|               Fri|               Sat|               Sun|              Thur|\n",
      "+------+------------------+------------------+------------------+------------------+\n",
      "| Lunch|12.845714285714285|              null|              null|17.664754098360653|\n",
      "|Dinner| 19.66333333333333|20.441379310344825|21.409999999999997|             18.78|\n",
      "+------+------------------+------------------+------------------+------------------+\n",
      "\n"
     ]
    }
   ],
   "source": [
    "df.groupBy('time').pivot('day').agg(mean('total_bill')).show()"
   ]
  },
  {
   "cell_type": "markdown",
   "id": "excessive-superintendent",
   "metadata": {},
   "source": [
    "`.crosstab` is just for counts, for other methods of summarizing groups, use `.groupBy` (maybe in combination with `.pivot`) + `.agg`."
   ]
  },
  {
   "cell_type": "markdown",
   "id": "wound-enterprise",
   "metadata": {},
   "source": [
    "## Additional Features"
   ]
  },
  {
   "cell_type": "markdown",
   "id": "5dd3a797-38d5-4479-8882-8f2d1e1d0f28",
   "metadata": {},
   "source": [
    "### Spark SQL"
   ]
  },
  {
   "cell_type": "code",
   "execution_count": 60,
   "id": "ordinary-charleston",
   "metadata": {},
   "outputs": [],
   "source": [
    "# register a sql table with the running spark constraints\n",
    "# you have to do this before you start doing .sql stuff\n",
    "df.createOrReplaceTempView('tips')"
   ]
  },
  {
   "cell_type": "code",
   "execution_count": 61,
   "id": "motivated-island",
   "metadata": {},
   "outputs": [
    {
     "name": "stdout",
     "output_type": "stream",
     "text": [
      "+----------+----+------+------+---+------+----+-------------------+\n",
      "|total_bill| tip|   sex|smoker|day|  time|size|            tip_pct|\n",
      "+----------+----+------+------+---+------+----+-------------------+\n",
      "|     16.99|1.01|Female|    No|Sun|Dinner|   2|0.05944673337257211|\n",
      "|     10.34|1.66|  Male|    No|Sun|Dinner|   3|0.16054158607350097|\n",
      "|     21.01| 3.5|  Male|    No|Sun|Dinner|   3|0.16658733936220846|\n",
      "|     23.68|3.31|  Male|    No|Sun|Dinner|   2| 0.1397804054054054|\n",
      "|     24.59|3.61|Female|    No|Sun|Dinner|   4|0.14680764538430255|\n",
      "|     25.29|4.71|  Male|    No|Sun|Dinner|   4|0.18623962040332148|\n",
      "|      8.77| 2.0|  Male|    No|Sun|Dinner|   2|0.22805017103762829|\n",
      "|     26.88|3.12|  Male|    No|Sun|Dinner|   4|0.11607142857142858|\n",
      "|     15.04|1.96|  Male|    No|Sun|Dinner|   2|0.13031914893617022|\n",
      "|     14.78|3.23|  Male|    No|Sun|Dinner|   2| 0.2185385656292287|\n",
      "|     10.27|1.71|  Male|    No|Sun|Dinner|   2| 0.1665043816942551|\n",
      "|     35.26| 5.0|Female|    No|Sun|Dinner|   4|0.14180374361883155|\n",
      "|     15.42|1.57|  Male|    No|Sun|Dinner|   2|0.10181582360570687|\n",
      "|     18.43| 3.0|  Male|    No|Sun|Dinner|   4|0.16277807921866522|\n",
      "|     14.83|3.02|Female|    No|Sun|Dinner|   2|0.20364126770060686|\n",
      "|     21.58|3.92|  Male|    No|Sun|Dinner|   2|0.18164967562557924|\n",
      "|     10.33|1.67|Female|    No|Sun|Dinner|   3| 0.1616650532429816|\n",
      "|     16.29|3.71|  Male|    No|Sun|Dinner|   3|0.22774708410067526|\n",
      "|     16.97| 3.5|Female|    No|Sun|Dinner|   3|0.20624631703005306|\n",
      "|     20.65|3.35|  Male|    No|Sat|Dinner|   3|0.16222760290556903|\n",
      "+----------+----+------+------+---+------+----+-------------------+\n",
      "only showing top 20 rows\n",
      "\n"
     ]
    }
   ],
   "source": [
    "spark.sql('''\n",
    "SELECT *\n",
    "FROM tips\n",
    "''').show()"
   ]
  },
  {
   "cell_type": "code",
   "execution_count": 62,
   "id": "alternate-hierarchy",
   "metadata": {},
   "outputs": [
    {
     "name": "stdout",
     "output_type": "stream",
     "text": [
      "+----+----------+---+\n",
      "| tip|total_bill|day|\n",
      "+----+----------+---+\n",
      "|3.35|     20.65|Sat|\n",
      "|4.08|     17.92|Sat|\n",
      "|2.75|     20.29|Sat|\n",
      "|2.23|     15.77|Sat|\n",
      "|7.58|     39.42|Sat|\n",
      "|3.18|     19.82|Sat|\n",
      "|2.34|     17.81|Sat|\n",
      "| 2.0|     13.37|Sat|\n",
      "| 2.0|     12.69|Sat|\n",
      "| 4.3|      21.7|Sat|\n",
      "| 3.0|     19.65|Sat|\n",
      "|1.45|      9.55|Sat|\n",
      "| 2.5|     18.35|Sat|\n",
      "| 3.0|     15.06|Sat|\n",
      "|2.45|     20.69|Sat|\n",
      "|3.27|     17.78|Sat|\n",
      "| 3.6|     24.06|Sat|\n",
      "| 2.0|     16.31|Sat|\n",
      "|3.07|     16.93|Sat|\n",
      "|2.31|     18.69|Sat|\n",
      "+----+----------+---+\n",
      "only showing top 20 rows\n",
      "\n"
     ]
    }
   ],
   "source": [
    "# find the tip, total_bill, and day with the highest overall sales for that day\n",
    "spark.sql('''\n",
    "SELECT tip, total_bill, day\n",
    "FROM tips\n",
    "WHERE day = (\n",
    "    SELECT day\n",
    "    FROM tips\n",
    "    GROUP BY day\n",
    "    ORDER BY sum(total_bill) DESC\n",
    "    LIMIT 1\n",
    ")    \n",
    "''').show()"
   ]
  },
  {
   "cell_type": "markdown",
   "id": "06e5f56d-6207-43bb-9c03-a78cb4169e26",
   "metadata": {},
   "source": [
    "### More Spark Dataframe Manipulation"
   ]
  },
  {
   "cell_type": "code",
   "execution_count": 64,
   "id": "mysterious-assets",
   "metadata": {},
   "outputs": [
    {
     "name": "stdout",
     "output_type": "stream",
     "text": [
      "== Physical Plan ==\n",
      "*(1) Project [total_bill#0, tip#1, sex#2, smoker#3, day#4, time#5, size#6L, (tip#1 / total_bill#0) AS tip_pct#285, (tip#1 / total_bill#0) AS tip_pct#1527]\n",
      "+- *(1) Filter (isnotnull(time#5) AND (time#5 = Dinner))\n",
      "   +- *(1) Scan ExistingRDD[total_bill#0,tip#1,sex#2,smoker#3,day#4,time#5,size#6L]\n",
      "\n",
      "\n"
     ]
    }
   ],
   "source": [
    "df.where(\n",
    "    df.time == 'Dinner'\n",
    ").select(\n",
    "    '*',\n",
    "    (df.tip / df.total_bill).alias('tip_pct'),\n",
    ").explain()"
   ]
  },
  {
   "cell_type": "code",
   "execution_count": 65,
   "id": "irish-stroke",
   "metadata": {},
   "outputs": [
    {
     "name": "stdout",
     "output_type": "stream",
     "text": [
      "== Physical Plan ==\n",
      "*(1) Project [total_bill#0, tip#1, sex#2, smoker#3, day#4, time#5, size#6L, (tip#1 / total_bill#0) AS tip_pct#285, (tip#1 / total_bill#0) AS tip_pct#1537]\n",
      "+- *(1) Filter (isnotnull(time#5) AND (time#5 = Dinner))\n",
      "   +- *(1) Scan ExistingRDD[total_bill#0,tip#1,sex#2,smoker#3,day#4,time#5,size#6L]\n",
      "\n",
      "\n"
     ]
    }
   ],
   "source": [
    "df.select(\n",
    "    '*',\n",
    "    (df.tip / df.total_bill).alias('tip_pct'),\n",
    ").where(\n",
    "    df.time == 'Dinner'\n",
    ").explain()"
   ]
  },
  {
   "cell_type": "markdown",
   "id": "cef8adf1-d36d-4f1b-92fb-44a9b77b4940",
   "metadata": {},
   "source": [
    "### Mixing in SQL Expressions"
   ]
  },
  {
   "cell_type": "code",
   "execution_count": 66,
   "id": "difficult-sharp",
   "metadata": {},
   "outputs": [],
   "source": [
    "from pyspark.sql.functions import expr"
   ]
  },
  {
   "cell_type": "markdown",
   "id": "ranging-zambia",
   "metadata": {},
   "source": [
    "Expr lets us mix in parts of SQL into our dataframes\n",
    "\n",
    "You can use little bits of sql using `expr('put expression here')`"
   ]
  },
  {
   "cell_type": "code",
   "execution_count": 67,
   "id": "turkish-colony",
   "metadata": {},
   "outputs": [
    {
     "name": "stdout",
     "output_type": "stream",
     "text": [
      "+----------+----+------+------+---+------+----+-------------------+-------------------+\n",
      "|total_bill| tip|   sex|smoker|day|  time|size|            tip_pct|            tip_pct|\n",
      "+----------+----+------+------+---+------+----+-------------------+-------------------+\n",
      "|     16.99|1.01|Female|    No|Sun|Dinner|   2|0.05944673337257211|0.05944673337257211|\n",
      "|     10.34|1.66|  Male|    No|Sun|Dinner|   3|0.16054158607350097|0.16054158607350097|\n",
      "|     21.01| 3.5|  Male|    No|Sun|Dinner|   3|0.16658733936220846|0.16658733936220846|\n",
      "|     23.68|3.31|  Male|    No|Sun|Dinner|   2| 0.1397804054054054| 0.1397804054054054|\n",
      "|     24.59|3.61|Female|    No|Sun|Dinner|   4|0.14680764538430255|0.14680764538430255|\n",
      "|     25.29|4.71|  Male|    No|Sun|Dinner|   4|0.18623962040332148|0.18623962040332148|\n",
      "|      8.77| 2.0|  Male|    No|Sun|Dinner|   2|0.22805017103762829|0.22805017103762829|\n",
      "|     26.88|3.12|  Male|    No|Sun|Dinner|   4|0.11607142857142858|0.11607142857142858|\n",
      "|     15.04|1.96|  Male|    No|Sun|Dinner|   2|0.13031914893617022|0.13031914893617022|\n",
      "|     14.78|3.23|  Male|    No|Sun|Dinner|   2| 0.2185385656292287| 0.2185385656292287|\n",
      "|     10.27|1.71|  Male|    No|Sun|Dinner|   2| 0.1665043816942551| 0.1665043816942551|\n",
      "|     35.26| 5.0|Female|    No|Sun|Dinner|   4|0.14180374361883155|0.14180374361883155|\n",
      "|     15.42|1.57|  Male|    No|Sun|Dinner|   2|0.10181582360570687|0.10181582360570687|\n",
      "|     18.43| 3.0|  Male|    No|Sun|Dinner|   4|0.16277807921866522|0.16277807921866522|\n",
      "|     14.83|3.02|Female|    No|Sun|Dinner|   2|0.20364126770060686|0.20364126770060686|\n",
      "|     21.58|3.92|  Male|    No|Sun|Dinner|   2|0.18164967562557924|0.18164967562557924|\n",
      "|     10.33|1.67|Female|    No|Sun|Dinner|   3| 0.1616650532429816| 0.1616650532429816|\n",
      "|     16.29|3.71|  Male|    No|Sun|Dinner|   3|0.22774708410067526|0.22774708410067526|\n",
      "|     16.97| 3.5|Female|    No|Sun|Dinner|   3|0.20624631703005306|0.20624631703005306|\n",
      "|     17.46|2.54|  Male|    No|Sun|Dinner|   2|0.14547537227949597|0.14547537227949597|\n",
      "+----------+----+------+------+---+------+----+-------------------+-------------------+\n",
      "only showing top 20 rows\n",
      "\n"
     ]
    }
   ],
   "source": [
    "df.select(\n",
    "    '*',\n",
    "    expr('tip / total_bill as tip_pct')\n",
    ").where(\n",
    "    expr('day = \"Sun\" AND time = \"Dinner\"')\n",
    ").show()"
   ]
  },
  {
   "cell_type": "markdown",
   "id": "99023336-20d4-4aa7-9203-980ef6923dae",
   "metadata": {},
   "source": [
    "## Joins"
   ]
  },
  {
   "cell_type": "code",
   "execution_count": 68,
   "id": "7271b43d-b233-4953-af7e-7d5f0613f422",
   "metadata": {},
   "outputs": [
    {
     "name": "stdout",
     "output_type": "stream",
     "text": [
      "+---+------+--------+\n",
      "| id|     x|group_id|\n",
      "+---+------+--------+\n",
      "|  1| 1.064|       3|\n",
      "|  2|-0.153|       2|\n",
      "|  3| 1.527|       3|\n",
      "|  4|-0.338|       6|\n",
      "|  5| 0.648|       6|\n",
      "+---+------+--------+\n",
      "only showing top 5 rows\n",
      "\n",
      "+---+-----+\n",
      "| id|group|\n",
      "+---+-----+\n",
      "|  1|    a|\n",
      "|  2|    b|\n",
      "|  3|    c|\n",
      "|  4|    d|\n",
      "|  5|    e|\n",
      "|  6|    f|\n",
      "+---+-----+\n",
      "\n"
     ]
    }
   ],
   "source": [
    "df1 = spark.createDataFrame(pd.DataFrame({\n",
    "    'id': np.arange(100) + 1,\n",
    "    'x': np.random.randn(100).round(3),\n",
    "    'group_id': np.random.choice(range(1, 7), 100),\n",
    "}))\n",
    "\n",
    "df2 = spark.createDataFrame(pd.DataFrame({\n",
    "    'id': range(1, 7),\n",
    "    'group': list('abcdef')\n",
    "}))\n",
    "df1.show(5)\n",
    "df2.show()"
   ]
  },
  {
   "cell_type": "code",
   "execution_count": 69,
   "id": "f1cea3b5-b4b9-40bf-918f-714e9f43892c",
   "metadata": {},
   "outputs": [
    {
     "name": "stdout",
     "output_type": "stream",
     "text": [
      "+---+------+--------+---+-----+\n",
      "| id|     x|group_id| id|group|\n",
      "+---+------+--------+---+-----+\n",
      "|  4|-0.338|       6|  6|    f|\n",
      "|  5| 0.648|       6|  6|    f|\n",
      "|  7|-0.862|       6|  6|    f|\n",
      "| 11|-1.598|       6|  6|    f|\n",
      "| 15|-0.585|       6|  6|    f|\n",
      "+---+------+--------+---+-----+\n",
      "only showing top 5 rows\n",
      "\n"
     ]
    }
   ],
   "source": [
    "df_merged = df1.join(df2, df1.group_id == df2.id)\n",
    "df_merged.show(5)"
   ]
  },
  {
   "cell_type": "markdown",
   "id": "a502608a-93f6-430e-8f05-c2ab821e0dfa",
   "metadata": {},
   "source": [
    "See how there's two columns with the same name? `id`\n",
    "\n",
    "Try to avoid getting in this situation"
   ]
  },
  {
   "cell_type": "code",
   "execution_count": 70,
   "id": "345af9c6-3a75-451c-a435-4c17bfb47083",
   "metadata": {},
   "outputs": [
    {
     "name": "stdout",
     "output_type": "stream",
     "text": [
      "+--------+---+------+-----+\n",
      "|group_id| id|     x|group|\n",
      "+--------+---+------+-----+\n",
      "|       6|  4|-0.338|    f|\n",
      "|       6|  5| 0.648|    f|\n",
      "|       6|  7|-0.862|    f|\n",
      "|       6| 11|-1.598|    f|\n",
      "|       6| 15|-0.585|    f|\n",
      "+--------+---+------+-----+\n",
      "only showing top 5 rows\n",
      "\n"
     ]
    }
   ],
   "source": [
    "df1.join(df2.withColumnRenamed('id', 'group_id'), 'group_id').show(5)"
   ]
  },
  {
   "cell_type": "markdown",
   "id": "5f59da98-a294-4a7c-8cbf-e0f7b104a31b",
   "metadata": {},
   "source": [
    "can also "
   ]
  },
  {
   "cell_type": "markdown",
   "id": "460b0041-8503-468f-affc-3ce0c8be9a9c",
   "metadata": {},
   "source": [
    "## `.explain`"
   ]
  },
  {
   "cell_type": "code",
   "execution_count": 71,
   "id": "fa46645d-06f6-4319-b112-665736371226",
   "metadata": {},
   "outputs": [
    {
     "name": "stdout",
     "output_type": "stream",
     "text": [
      "== Physical Plan ==\n",
      "*(1) Project [total_bill#0, tip#1, sex#2, smoker#3, day#4, time#5, size#6L, (tip#1 / total_bill#0) AS tip_pct#285]\n",
      "+- *(1) Scan ExistingRDD[total_bill#0,tip#1,sex#2,smoker#3,day#4,time#5,size#6L]\n",
      "\n",
      "\n"
     ]
    }
   ],
   "source": [
    "df.explain()"
   ]
  },
  {
   "cell_type": "markdown",
   "id": "3a1b6b05-9950-4e32-ac2f-0bee97c42ef3",
   "metadata": {},
   "source": [
    "`.explain` tells you where the dataframe came from\n",
    "\n",
    "scan - get from some place\n",
    "\n",
    "project - put on something else\n",
    "\n",
    "filter - shows there was a filter \n"
   ]
  },
  {
   "cell_type": "code",
   "execution_count": 72,
   "id": "f728e5b6-e4c9-4670-9371-0a9dd9cdac62",
   "metadata": {},
   "outputs": [],
   "source": [
    "df = spark.createDataFrame(pydataset.data('tips'))"
   ]
  },
  {
   "cell_type": "code",
   "execution_count": 73,
   "id": "7514e9a6-162a-45c2-a4a6-d13013f7fab8",
   "metadata": {},
   "outputs": [
    {
     "name": "stdout",
     "output_type": "stream",
     "text": [
      "== Physical Plan ==\n",
      "*(1) Scan ExistingRDD[total_bill#1681,tip#1682,sex#1683,smoker#1684,day#1685,time#1686,size#1687L]\n",
      "\n",
      "\n"
     ]
    }
   ],
   "source": [
    "df.explain()"
   ]
  },
  {
   "cell_type": "code",
   "execution_count": 74,
   "id": "283c3d38-d0ac-4257-9ef1-624c879c0991",
   "metadata": {},
   "outputs": [
    {
     "name": "stdout",
     "output_type": "stream",
     "text": [
      "== Physical Plan ==\n",
      "*(1) Filter (isnotnull(time#1686) AND (time#1686 = Lunch))\n",
      "+- *(1) Scan ExistingRDD[total_bill#1681,tip#1682,sex#1683,smoker#1684,day#1685,time#1686,size#1687L]\n",
      "\n",
      "\n"
     ]
    }
   ],
   "source": [
    "df.filter(df.time == 'Lunch').explain()"
   ]
  },
  {
   "cell_type": "code",
   "execution_count": 76,
   "id": "063e3d95-bd6c-4672-b845-fdb316ce2087",
   "metadata": {},
   "outputs": [
    {
     "name": "stdout",
     "output_type": "stream",
     "text": [
      "== Physical Plan ==\n",
      "*(1) Filter (isnotnull(time#1686) AND (time#1686 = Lunch))\n",
      "+- *(1) Scan ExistingRDD[total_bill#1681,tip#1682,sex#1683,smoker#1684,day#1685,time#1686,size#1687L]\n",
      "\n",
      "\n"
     ]
    }
   ],
   "source": [
    "df.filter(df.time == 'Lunch').explain()"
   ]
  },
  {
   "cell_type": "code",
   "execution_count": 78,
   "id": "b6b3210d-8a23-4e2a-9eba-19a963257177",
   "metadata": {},
   "outputs": [
    {
     "name": "stdout",
     "output_type": "stream",
     "text": [
      "== Physical Plan ==\n",
      "*(1) Filter (((isnotnull(time#1686) AND isnotnull(size#1687L)) AND (time#1686 = Lunch)) AND (size#1687L > 1))\n",
      "+- *(1) Scan ExistingRDD[total_bill#1681,tip#1682,sex#1683,smoker#1684,day#1685,time#1686,size#1687L]\n",
      "\n",
      "\n"
     ]
    }
   ],
   "source": [
    "df.filter(df.time == 'Lunch').filter(df.size > 1).explain()"
   ]
  },
  {
   "cell_type": "code",
   "execution_count": 79,
   "id": "133a32ae-e485-4de1-9512-ae0c7c577297",
   "metadata": {},
   "outputs": [
    {
     "name": "stdout",
     "output_type": "stream",
     "text": [
      "== Physical Plan ==\n",
      "*(1) Project [total_bill#1681, tip#1682, sex#1683, smoker#1684, day#1685, time#1686, size#1687L, (tip#1682 / total_bill#1681) AS tip_pct#1695]\n",
      "+- *(1) Filter (((isnotnull(time#1686) AND isnotnull(size#1687L)) AND (time#1686 = Lunch)) AND (size#1687L > 1))\n",
      "   +- *(1) Scan ExistingRDD[total_bill#1681,tip#1682,sex#1683,smoker#1684,day#1685,time#1686,size#1687L]\n",
      "\n",
      "\n"
     ]
    }
   ],
   "source": [
    "df.filter(df.time == 'Lunch').filter(df.size > 1).select('*', expr('tip / total_bill as tip_pct')).explain()"
   ]
  },
  {
   "cell_type": "markdown",
   "id": "4b6149a0-fd84-4c64-9d81-fddf893ea3f7",
   "metadata": {},
   "source": [
    "Spark will always do a filter first then a project. Because it's lazy, and doesn't want to do as much work (i.e. math)"
   ]
  },
  {
   "cell_type": "code",
   "execution_count": null,
   "id": "9a2bcd8b-b5bc-4d82-9b22-f8a3a37dbeab",
   "metadata": {},
   "outputs": [],
   "source": []
  }
 ],
 "metadata": {
  "kernelspec": {
   "display_name": "Python 3",
   "language": "python",
   "name": "python3"
  },
  "language_info": {
   "codemirror_mode": {
    "name": "ipython",
    "version": 3
   },
   "file_extension": ".py",
   "mimetype": "text/x-python",
   "name": "python",
   "nbconvert_exporter": "python",
   "pygments_lexer": "ipython3",
   "version": "3.8.5"
  }
 },
 "nbformat": 4,
 "nbformat_minor": 5
}
