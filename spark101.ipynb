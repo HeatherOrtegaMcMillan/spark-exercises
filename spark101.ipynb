{
 "cells": [
  {
   "cell_type": "markdown",
   "id": "6c5d0d3b-e35e-4d5f-9b28-57098ead4c51",
   "metadata": {},
   "source": [
    "# Spark API Exercises"
   ]
  },
  {
   "cell_type": "code",
   "execution_count": 222,
   "id": "71479c79-f32a-4452-ad66-0d81032cde87",
   "metadata": {},
   "outputs": [],
   "source": [
    "import pandas as pd\n",
    "import numpy as np\n",
    "import pyspark \n",
    "import pydataset\n",
    "\n",
    "from pyspark.sql.functions import sum, mean, concat, lit, regexp_extract, regexp_replace, when, month, year, quarter, asc, desc, col,expr, count\n"
   ]
  },
  {
   "cell_type": "code",
   "execution_count": 2,
   "id": "000d1468-72f9-4592-b64a-c472447a5c66",
   "metadata": {},
   "outputs": [],
   "source": [
    "# set up spark invironment\n",
    "spark = pyspark.sql.SparkSession.builder.getOrCreate()"
   ]
  },
  {
   "cell_type": "markdown",
   "id": "43a5507b-11c9-45bd-bef1-1ab794a4f7f9",
   "metadata": {},
   "source": [
    "Save this work in your spark-exercises repo. Then add, commit, and push your changes.\n",
    "\n",
    "Create a jupyter notebook or python script named spark101 for this exercise.\n",
    "\n",
    "### 1. Create a spark data frame that contains your favorite programming languages.\n",
    "\n",
    "    - The name of the column should be language\n",
    "    - View the schema of the dataframe\n",
    "    - Output the shape of the dataframe\n",
    "    - Show the first 5 records in the dataframe\n"
   ]
  },
  {
   "cell_type": "code",
   "execution_count": 116,
   "id": "0e4fb6b5-c94d-4853-ab44-547ccbb9d0e3",
   "metadata": {},
   "outputs": [],
   "source": [
    "# create dictionary\n",
    "Dict = {'language': ['python', 'php', 'C', 'C++', 'java', 'SQL']}\n",
    "\n",
    "# turn dictionary into pandas dataframe\n",
    "fav_languages = pd.DataFrame(Dict)"
   ]
  },
  {
   "cell_type": "code",
   "execution_count": 117,
   "id": "8133cabf-3613-410a-b467-eb9271c2b9c0",
   "metadata": {},
   "outputs": [],
   "source": [
    "# turn pandas dataframe into spark dataframe\n",
    "df = spark.createDataFrame(fav_languages)"
   ]
  },
  {
   "cell_type": "code",
   "execution_count": 118,
   "id": "1ae02c10-4189-4e98-afe0-514eb00fa635",
   "metadata": {},
   "outputs": [
    {
     "name": "stdout",
     "output_type": "stream",
     "text": [
      "(6, 1)\n"
     ]
    }
   ],
   "source": [
    "# look at shape\n",
    "print((df.count(), len(df.columns)))"
   ]
  },
  {
   "cell_type": "code",
   "execution_count": 119,
   "id": "e59c021e-237e-464f-8772-ca1c1fe054f1",
   "metadata": {},
   "outputs": [
    {
     "name": "stdout",
     "output_type": "stream",
     "text": [
      "+--------+\n",
      "|language|\n",
      "+--------+\n",
      "|  python|\n",
      "|     php|\n",
      "|       C|\n",
      "|     C++|\n",
      "|    java|\n",
      "+--------+\n",
      "only showing top 5 rows\n",
      "\n"
     ]
    }
   ],
   "source": [
    "df.show(5)"
   ]
  },
  {
   "cell_type": "markdown",
   "id": "d1c85e2e-7139-4af4-a349-641606ed95a0",
   "metadata": {},
   "source": [
    "### 2. Load the mpg dataset as a spark dataframe.\n",
    "\n",
    "    a. Create 1 column of output that contains a message like the one below:\n",
    "\n",
    "    `The 1999 audi a4 has a 4 cylinder engine.`\n",
    "    \n",
    "    For each vehicle.\n",
    "    \n",
    "    b. Transform the trans column so that it only contains either manual or auto."
   ]
  },
  {
   "cell_type": "code",
   "execution_count": 181,
   "id": "13a94cf7-63b0-4b52-beef-000d3f2bb134",
   "metadata": {},
   "outputs": [],
   "source": [
    "# load mpg data\n",
    "mpg = pydataset.data('mpg')\n",
    "\n",
    "# turn into spark dataframe\n",
    "df = spark.createDataFrame(mpg)"
   ]
  },
  {
   "cell_type": "code",
   "execution_count": 182,
   "id": "e2e11f4e-924f-40e8-b232-a346f679f2dd",
   "metadata": {},
   "outputs": [
    {
     "name": "stdout",
     "output_type": "stream",
     "text": [
      "+------------+-----+-----+----+---+----------+---+---+---+---+-------+\n",
      "|manufacturer|model|displ|year|cyl|     trans|drv|cty|hwy| fl|  class|\n",
      "+------------+-----+-----+----+---+----------+---+---+---+---+-------+\n",
      "|        audi|   a4|  1.8|1999|  4|  auto(l5)|  f| 18| 29|  p|compact|\n",
      "|        audi|   a4|  1.8|1999|  4|manual(m5)|  f| 21| 29|  p|compact|\n",
      "|        audi|   a4|  2.0|2008|  4|manual(m6)|  f| 20| 31|  p|compact|\n",
      "|        audi|   a4|  2.0|2008|  4|  auto(av)|  f| 21| 30|  p|compact|\n",
      "|        audi|   a4|  2.8|1999|  6|  auto(l5)|  f| 16| 26|  p|compact|\n",
      "+------------+-----+-----+----+---+----------+---+---+---+---+-------+\n",
      "only showing top 5 rows\n",
      "\n"
     ]
    }
   ],
   "source": [
    "df.show(5)"
   ]
  },
  {
   "cell_type": "code",
   "execution_count": 183,
   "id": "1a31eb86-e12d-4d24-b421-bda2411f2234",
   "metadata": {},
   "outputs": [
    {
     "data": {
      "text/plain": [
       "DataFrame[description: string]"
      ]
     },
     "execution_count": 183,
     "metadata": {},
     "output_type": "execute_result"
    }
   ],
   "source": [
    "df.select(concat(lit('The '), 'year', lit(' '), 'manufacturer', \n",
    "                 lit(' '), 'model', lit(' has a '), 'cyl', lit(' cylinder engine.')).alias('description'))"
   ]
  },
  {
   "cell_type": "code",
   "execution_count": 184,
   "id": "3fac4b42-41c2-4102-bfb8-3452db363ced",
   "metadata": {},
   "outputs": [
    {
     "name": "stdout",
     "output_type": "stream",
     "text": [
      "+------------+-----+-----+----+---+----------+---+---+---+---+-------+-----------------------------------------+\n",
      "|manufacturer|model|displ|year|cyl|trans     |drv|cty|hwy|fl |class  |description                              |\n",
      "+------------+-----+-----+----+---+----------+---+---+---+---+-------+-----------------------------------------+\n",
      "|audi        |a4   |1.8  |1999|4  |auto(l5)  |f  |18 |29 |p  |compact|The 1999 audi a4 has a 4 cylinder engine.|\n",
      "|audi        |a4   |1.8  |1999|4  |manual(m5)|f  |21 |29 |p  |compact|The 1999 audi a4 has a 4 cylinder engine.|\n",
      "|audi        |a4   |2.0  |2008|4  |manual(m6)|f  |20 |31 |p  |compact|The 2008 audi a4 has a 4 cylinder engine.|\n",
      "|audi        |a4   |2.0  |2008|4  |auto(av)  |f  |21 |30 |p  |compact|The 2008 audi a4 has a 4 cylinder engine.|\n",
      "|audi        |a4   |2.8  |1999|6  |auto(l5)  |f  |16 |26 |p  |compact|The 1999 audi a4 has a 6 cylinder engine.|\n",
      "+------------+-----+-----+----+---+----------+---+---+---+---+-------+-----------------------------------------+\n",
      "only showing top 5 rows\n",
      "\n"
     ]
    }
   ],
   "source": [
    "df = df.select('*',concat(lit('The '), 'year', lit(' '), 'manufacturer',\n",
    "                          lit(' '), 'model', lit(' has a '), 'cyl', lit(' cylinder engine.')).alias('description'))\n",
    "\n",
    "df.show(5, truncate = False)"
   ]
  },
  {
   "cell_type": "code",
   "execution_count": 192,
   "id": "5672a613-1a2a-4865-bb5e-73b2588a0029",
   "metadata": {},
   "outputs": [
    {
     "name": "stdout",
     "output_type": "stream",
     "text": [
      "+----------+------+\n",
      "|     trans|trans2|\n",
      "+----------+------+\n",
      "|  auto(l5)|  auto|\n",
      "|manual(m5)|manual|\n",
      "|manual(m6)|manual|\n",
      "|  auto(av)|  auto|\n",
      "+----------+------+\n",
      "only showing top 4 rows\n",
      "\n"
     ]
    }
   ],
   "source": [
    "df.select(\n",
    "    'trans',\n",
    "    regexp_extract('trans', r'(\\w+)',1).alias('trans2')\n",
    ").show(4)"
   ]
  },
  {
   "cell_type": "code",
   "execution_count": 197,
   "id": "e1732b3b-f9c4-4452-9810-fe84b51c1e84",
   "metadata": {},
   "outputs": [
    {
     "name": "stdout",
     "output_type": "stream",
     "text": [
      "+------+\n",
      "| trans|\n",
      "+------+\n",
      "|  auto|\n",
      "|manual|\n",
      "|manual|\n",
      "|  auto|\n",
      "|  auto|\n",
      "+------+\n",
      "only showing top 5 rows\n",
      "\n"
     ]
    }
   ],
   "source": [
    "new_trans = df.select(regexp_extract('trans', r'(\\w+)',1).alias('trans'))\n",
    "new_trans.show(5)"
   ]
  },
  {
   "cell_type": "code",
   "execution_count": 205,
   "id": "b733d480-402d-4ba7-a806-488e1a99d22b",
   "metadata": {},
   "outputs": [
    {
     "name": "stdout",
     "output_type": "stream",
     "text": [
      "+------------+-----+-----+----+---+---------+---+---+---+---+-------+--------------------+\n",
      "|manufacturer|model|displ|year|cyl|trans_new|drv|cty|hwy| fl|  class|         description|\n",
      "+------------+-----+-----+----+---+---------+---+---+---+---+-------+--------------------+\n",
      "|        audi|   a4|  1.8|1999|  4|     auto|  f| 18| 29|  p|compact|The 1999 audi a4 ...|\n",
      "|        audi|   a4|  1.8|1999|  4|   manual|  f| 21| 29|  p|compact|The 1999 audi a4 ...|\n",
      "|        audi|   a4|  2.0|2008|  4|   manual|  f| 20| 31|  p|compact|The 2008 audi a4 ...|\n",
      "|        audi|   a4|  2.0|2008|  4|     auto|  f| 21| 30|  p|compact|The 2008 audi a4 ...|\n",
      "|        audi|   a4|  2.8|1999|  6|     auto|  f| 16| 26|  p|compact|The 1999 audi a4 ...|\n",
      "+------------+-----+-----+----+---+---------+---+---+---+---+-------+--------------------+\n",
      "only showing top 5 rows\n",
      "\n"
     ]
    }
   ],
   "source": [
    "new_df = df.select('manufacturer', \n",
    "          'model', \n",
    "          'displ', \n",
    "          'year', \n",
    "          'cyl', \n",
    "          regexp_extract('trans', r'(\\w+)',1).alias('trans_new'), \n",
    "          'drv', \n",
    "          'cty', \n",
    "          'hwy', \n",
    "          'fl', \n",
    "          'class', \n",
    "          'description')\n",
    "new_df.show(5)"
   ]
  },
  {
   "cell_type": "markdown",
   "id": "539e8784-d262-427e-9376-8d3532393038",
   "metadata": {},
   "source": [
    "### 3. Load the tips dataset as a spark dataframe.\n",
    "\n",
    "- What percentage of observations are smokers?\n",
    "- Create a column that contains the tip percentage\n",
    "- Calculate the average tip percentage for each combination of sex and smoker."
   ]
  },
  {
   "cell_type": "code",
   "execution_count": 36,
   "id": "0e87102a-3b23-4908-ab1e-26b909a50e16",
   "metadata": {},
   "outputs": [],
   "source": [
    "from pyspark.sql.functions import sum, mean, concat, lit, regexp_extract, regexp_replace, when"
   ]
  },
  {
   "cell_type": "code",
   "execution_count": 267,
   "id": "9f04d1a4-5dbf-4411-83db-3f8fea184c61",
   "metadata": {},
   "outputs": [
    {
     "name": "stdout",
     "output_type": "stream",
     "text": [
      "+----------+----+------+------+---+------+----+\n",
      "|total_bill| tip|   sex|smoker|day|  time|size|\n",
      "+----------+----+------+------+---+------+----+\n",
      "|     16.99|1.01|Female|    No|Sun|Dinner|   2|\n",
      "|     10.34|1.66|  Male|    No|Sun|Dinner|   3|\n",
      "|     21.01| 3.5|  Male|    No|Sun|Dinner|   3|\n",
      "|     23.68|3.31|  Male|    No|Sun|Dinner|   2|\n",
      "|     24.59|3.61|Female|    No|Sun|Dinner|   4|\n",
      "+----------+----+------+------+---+------+----+\n",
      "only showing top 5 rows\n",
      "\n"
     ]
    }
   ],
   "source": [
    "tips = pydataset.data('tips')\n",
    "\n",
    "df = spark.createDataFrame(tips)\n",
    "df.show(5)"
   ]
  },
  {
   "cell_type": "code",
   "execution_count": 270,
   "id": "4510d742-dd6c-4282-af41-36fad75ea3a0",
   "metadata": {},
   "outputs": [
    {
     "name": "stdout",
     "output_type": "stream",
     "text": [
      "+------------------------+\n",
      "|round(avg(is_smoker), 2)|\n",
      "+------------------------+\n",
      "|                    0.38|\n",
      "+------------------------+\n",
      "\n"
     ]
    }
   ],
   "source": [
    "# What percentage of observations are smokers?\n",
    "(\n",
    "    df.select('*', (when(df.smoker == 'Yes', 1).otherwise(0)).alias('is_smoker'))\n",
    "    .agg(round(mean('is_smoker'), 2))\n",
    ").show(5)"
   ]
  },
  {
   "cell_type": "code",
   "execution_count": 271,
   "id": "b744d7e7-d737-41df-9b9b-8057282549eb",
   "metadata": {},
   "outputs": [
    {
     "name": "stdout",
     "output_type": "stream",
     "text": [
      "+------+-----+-------+\n",
      "|smoker|count|percent|\n",
      "+------+-----+-------+\n",
      "|    No|  151|    62%|\n",
      "|   Yes|   93|    38%|\n",
      "+------+-----+-------+\n",
      "\n"
     ]
    }
   ],
   "source": [
    "df.groupBy(\"smoker\").count().withColumn(\n",
    "    \"percent\",\n",
    "    concat(round((col(\"count\") / df.count() * 100), 0).cast(\"int\"), lit(\"%\")),\n",
    ").show()"
   ]
  },
  {
   "cell_type": "code",
   "execution_count": 48,
   "id": "67b7a8ab-7fae-45d3-b40b-b85fe2e2aeea",
   "metadata": {},
   "outputs": [
    {
     "name": "stdout",
     "output_type": "stream",
     "text": [
      "+----------+----+------+------+---+------+----+-----------+\n",
      "|total_bill| tip|   sex|smoker|day|  time|size|tip_percent|\n",
      "+----------+----+------+------+---+------+----+-----------+\n",
      "|     16.99|1.01|Female|    No|Sun|Dinner|   2|       5.94|\n",
      "|     10.34|1.66|  Male|    No|Sun|Dinner|   3|      16.05|\n",
      "|     21.01| 3.5|  Male|    No|Sun|Dinner|   3|      16.66|\n",
      "|     23.68|3.31|  Male|    No|Sun|Dinner|   2|      13.98|\n",
      "|     24.59|3.61|Female|    No|Sun|Dinner|   4|      14.68|\n",
      "+----------+----+------+------+---+------+----+-----------+\n",
      "only showing top 5 rows\n",
      "\n"
     ]
    }
   ],
   "source": [
    "# Create a column that contains the tip percentage\n",
    "df = df.select('*', round((df.tip / df.total_bill) *100, 2).alias('tip_percent'))\n",
    "\n",
    "df.show(5)"
   ]
  },
  {
   "cell_type": "code",
   "execution_count": 53,
   "id": "686822ed-4861-494b-81aa-59edc1dca50e",
   "metadata": {},
   "outputs": [
    {
     "name": "stdout",
     "output_type": "stream",
     "text": [
      "+------+------+------------------+\n",
      "|   sex|smoker|  avg(tip_percent)|\n",
      "+------+------+------------------+\n",
      "|  Male|    No| 16.06659793814433|\n",
      "|  Male|   Yes|15.276666666666667|\n",
      "|Female|    No| 15.69111111111111|\n",
      "|Female|   Yes|18.214545454545455|\n",
      "+------+------+------------------+\n",
      "\n"
     ]
    }
   ],
   "source": [
    "# Calculate the average tip percentage for each combination of sex and smoker.\n",
    "\n",
    "df.groupBy('sex', 'smoker').agg(mean('tip_percent')).show(5)"
   ]
  },
  {
   "cell_type": "markdown",
   "id": "31e8fd4d-ccdc-47f3-bac2-b56be3c42a9d",
   "metadata": {},
   "source": [
    "### 4. Use the seattle weather dataset referenced in the lesson to answer the questions below.\n",
    "\n",
    "   - Convert the temperatures to fahrenheit.\n",
    "   - Which month has the most rain, on average?\n",
    "   - Which year was the windiest?\n",
    "   - What is the most frequent type of weather in January?\n",
    "   - What is the average high and low temperature on sunny days in July in 2013 and 2014?\n",
    "   - What percentage of days were rainy in q3 of 2015?\n",
    "   - For each year, find what percentage of days it rained (had non-zero precipitation)."
   ]
  },
  {
   "cell_type": "code",
   "execution_count": 208,
   "id": "570e4704-61b4-4560-b30b-7e5bb0f5d36e",
   "metadata": {},
   "outputs": [
    {
     "name": "stdout",
     "output_type": "stream",
     "text": [
      "+----------+-------------+--------+--------+----+-------+\n",
      "|      date|precipitation|temp_max|temp_min|wind|weather|\n",
      "+----------+-------------+--------+--------+----+-------+\n",
      "|2012-01-01|          0.0|    12.8|     5.0| 4.7|drizzle|\n",
      "|2012-01-02|         10.9|    10.6|     2.8| 4.5|   rain|\n",
      "|2012-01-03|          0.8|    11.7|     7.2| 2.3|   rain|\n",
      "|2012-01-04|         20.3|    12.2|     5.6| 4.7|   rain|\n",
      "|2012-01-05|          1.3|     8.9|     2.8| 6.1|   rain|\n",
      "|2012-01-06|          2.5|     4.4|     2.2| 2.2|   rain|\n",
      "+----------+-------------+--------+--------+----+-------+\n",
      "only showing top 6 rows\n",
      "\n"
     ]
    }
   ],
   "source": [
    "from vega_datasets import data\n",
    "\n",
    "weather = data.seattle_weather().assign(date=lambda df: df.date.astype(str))\n",
    "weather = spark.createDataFrame(weather)\n",
    "weather.show(6)"
   ]
  },
  {
   "cell_type": "code",
   "execution_count": 209,
   "id": "ea426704-226c-4900-b545-c7d5515e67fd",
   "metadata": {},
   "outputs": [],
   "source": [
    "# Convert the temperatures to fahrenheit\n",
    "\n",
    "weather = weather.select('*', round(weather.temp_max * (9/5) + 32, 1).alias('temp_max(F)'))\n",
    "\n",
    "weather = weather.select('*', round(weather.temp_min * (9/5) + 32, 1).alias('temp_min(F)'))"
   ]
  },
  {
   "cell_type": "code",
   "execution_count": 210,
   "id": "1ae6f879-ee36-47a3-bd84-af1032e618b8",
   "metadata": {},
   "outputs": [
    {
     "name": "stdout",
     "output_type": "stream",
     "text": [
      "+----------+-------------+--------+--------+----+-------+-----------+-----------+\n",
      "|      date|precipitation|temp_max|temp_min|wind|weather|temp_max(F)|temp_min(F)|\n",
      "+----------+-------------+--------+--------+----+-------+-----------+-----------+\n",
      "|2012-01-01|          0.0|    12.8|     5.0| 4.7|drizzle|       55.0|       41.0|\n",
      "|2012-01-02|         10.9|    10.6|     2.8| 4.5|   rain|       51.1|       37.0|\n",
      "|2012-01-03|          0.8|    11.7|     7.2| 2.3|   rain|       53.1|       45.0|\n",
      "|2012-01-04|         20.3|    12.2|     5.6| 4.7|   rain|       54.0|       42.1|\n",
      "|2012-01-05|          1.3|     8.9|     2.8| 6.1|   rain|       48.0|       37.0|\n",
      "+----------+-------------+--------+--------+----+-------+-----------+-----------+\n",
      "only showing top 5 rows\n",
      "\n",
      "1461 rows 8 columns\n"
     ]
    }
   ],
   "source": [
    "weather.show(5)\n",
    "\n",
    "print(weather.count(), \"rows\", len(weather.columns), \"columns\")"
   ]
  },
  {
   "cell_type": "code",
   "execution_count": 211,
   "id": "23c961e2-6d1b-4dc5-a6ec-2cd5e803e70c",
   "metadata": {},
   "outputs": [],
   "source": [
    "# Which month has the most rain, on average?\n",
    "\n",
    "# create datafame with the aggrigate rain totals for each month\n",
    "\n",
    "rain = (\n",
    "    weather.withColumn('month', month('date'))\n",
    "    .groupby('month')\n",
    "    .agg(sum('precipitation').alias('total_rain'))\n",
    "    .sort('month')\n",
    "    )"
   ]
  },
  {
   "cell_type": "code",
   "execution_count": 128,
   "id": "6e2f8fc8-742b-4d05-a2ac-7abf5986609b",
   "metadata": {},
   "outputs": [
    {
     "name": "stdout",
     "output_type": "stream",
     "text": [
      "+-----+------------------+\n",
      "|month|        total_rain|\n",
      "+-----+------------------+\n",
      "|    1|465.99999999999994|\n",
      "|    2|             422.0|\n",
      "|    3|             606.2|\n",
      "|    4|             375.4|\n",
      "|    5|             207.5|\n",
      "|    6|             132.9|\n",
      "|    7|              48.2|\n",
      "|    8|             163.7|\n",
      "|    9|235.49999999999997|\n",
      "|   10|             503.4|\n",
      "|   11|             642.5|\n",
      "|   12| 622.7000000000002|\n",
      "+-----+------------------+\n",
      "\n"
     ]
    }
   ],
   "source": [
    "rain.show()"
   ]
  },
  {
   "cell_type": "code",
   "execution_count": 129,
   "id": "88d58a08-4f19-495f-b260-3423bc33afaa",
   "metadata": {},
   "outputs": [
    {
     "name": "stdout",
     "output_type": "stream",
     "text": [
      "+---------------+\n",
      "|max(total_rain)|\n",
      "+---------------+\n",
      "|          642.5|\n",
      "+---------------+\n",
      "\n"
     ]
    }
   ],
   "source": [
    "rain.agg({'total_rain':'max'}).show()"
   ]
  },
  {
   "cell_type": "code",
   "execution_count": 130,
   "id": "349dda44-2041-4edd-a31d-7350d89258cf",
   "metadata": {},
   "outputs": [
    {
     "name": "stdout",
     "output_type": "stream",
     "text": [
      "+-----+----------+\n",
      "|month|total_rain|\n",
      "+-----+----------+\n",
      "|   11|     642.5|\n",
      "+-----+----------+\n",
      "only showing top 1 row\n",
      "\n"
     ]
    }
   ],
   "source": [
    "# month with the most rain\n",
    "# sort by total_rain in descending and show top result\n",
    "\n",
    "rain.sort(desc('total_rain')).show(1)"
   ]
  },
  {
   "cell_type": "code",
   "execution_count": 131,
   "id": "5046a61a-5a22-4f8d-aea8-ebb12505aa4e",
   "metadata": {},
   "outputs": [
    {
     "name": "stdout",
     "output_type": "stream",
     "text": [
      "+-----+----------+\n",
      "|month|total_rain|\n",
      "+-----+----------+\n",
      "|    7|      48.2|\n",
      "+-----+----------+\n",
      "only showing top 1 row\n",
      "\n"
     ]
    }
   ],
   "source": [
    "# month with the least rain\n",
    "# sort by total_rain in ascending and show top result\n",
    "\n",
    "rain.sort('total_rain').show(1)"
   ]
  },
  {
   "cell_type": "code",
   "execution_count": 132,
   "id": "a9499d44-2941-4eac-a320-3e7d2c72450f",
   "metadata": {},
   "outputs": [
    {
     "name": "stdout",
     "output_type": "stream",
     "text": [
      "+----+------------------+\n",
      "|year|        total_wind|\n",
      "+----+------------------+\n",
      "|2012|            1244.7|\n",
      "|2013|1100.8000000000006|\n",
      "|2014|1236.5000000000007|\n",
      "|2015|1153.3000000000002|\n",
      "+----+------------------+\n",
      "\n"
     ]
    }
   ],
   "source": [
    "# Which year was the windiest?\n",
    "wind = (\n",
    "    weather.withColumn('year', year('date'))\n",
    "    .groupby('year')\n",
    "    .agg(sum('wind').alias('total_wind'))\n",
    "    .sort('year')\n",
    "    )\n",
    "wind.show()"
   ]
  },
  {
   "cell_type": "code",
   "execution_count": 150,
   "id": "0c7c5ec0-aba3-4437-a6da-19d34ee8f563",
   "metadata": {},
   "outputs": [
    {
     "name": "stdout",
     "output_type": "stream",
     "text": [
      "+---------------+\n",
      "|max(total_wind)|\n",
      "+---------------+\n",
      "|         1244.7|\n",
      "+---------------+\n",
      "\n"
     ]
    }
   ],
   "source": [
    "wind.agg({'total_wind':'max'}).show()"
   ]
  },
  {
   "cell_type": "code",
   "execution_count": 153,
   "id": "c69ea7eb-a836-4210-a018-81fbbccfe727",
   "metadata": {},
   "outputs": [
    {
     "name": "stdout",
     "output_type": "stream",
     "text": [
      "+----+----------+\n",
      "|year|total_wind|\n",
      "+----+----------+\n",
      "|2012|    1244.7|\n",
      "+----+----------+\n",
      "only showing top 1 row\n",
      "\n"
     ]
    }
   ],
   "source": [
    "wind.sort(desc('total_wind')).show(1)"
   ]
  },
  {
   "cell_type": "code",
   "execution_count": 160,
   "id": "5f238edc-ad50-4b8c-8209-2e812242b70a",
   "metadata": {},
   "outputs": [
    {
     "name": "stdout",
     "output_type": "stream",
     "text": [
      "+-------------+-------+---+----+----+---+\n",
      "|month_weather|drizzle|fog|rain|snow|sun|\n",
      "+-------------+-------+---+----+----+---+\n",
      "|            1|     10| 38|  35|   8| 33|\n",
      "+-------------+-------+---+----+----+---+\n",
      "only showing top 1 row\n",
      "\n"
     ]
    }
   ],
   "source": [
    "# What is the most frequent type of weather in January? \n",
    "(\n",
    "    weather.withColumn('month', month('date')).crosstab('month', 'weather')\n",
    "    .sort('month_weather')\n",
    " \n",
    ").show(1)"
   ]
  },
  {
   "cell_type": "markdown",
   "id": "6ff5114a-78f1-41d7-97a9-e16ba3ee036b",
   "metadata": {},
   "source": [
    "Most frequent weather in January: Fog"
   ]
  },
  {
   "cell_type": "code",
   "execution_count": 212,
   "id": "6b6680e9-614d-4a55-93aa-f3335c116831",
   "metadata": {},
   "outputs": [
    {
     "name": "stdout",
     "output_type": "stream",
     "text": [
      "+----------+-------------+--------+--------+----+-------+-----------+-----------+----+-----+\n",
      "|      date|precipitation|temp_max|temp_min|wind|weather|temp_max(F)|temp_min(F)|year|month|\n",
      "+----------+-------------+--------+--------+----+-------+-----------+-----------+----+-----+\n",
      "|2012-01-01|          0.0|    12.8|     5.0| 4.7|drizzle|       55.0|       41.0|2012|    1|\n",
      "|2012-01-02|         10.9|    10.6|     2.8| 4.5|   rain|       51.1|       37.0|2012|    1|\n",
      "|2012-01-03|          0.8|    11.7|     7.2| 2.3|   rain|       53.1|       45.0|2012|    1|\n",
      "|2012-01-04|         20.3|    12.2|     5.6| 4.7|   rain|       54.0|       42.1|2012|    1|\n",
      "|2012-01-05|          1.3|     8.9|     2.8| 6.1|   rain|       48.0|       37.0|2012|    1|\n",
      "+----------+-------------+--------+--------+----+-------+-----------+-----------+----+-----+\n",
      "only showing top 5 rows\n",
      "\n"
     ]
    }
   ],
   "source": [
    "# What is the average high and low temperature on sunny days in July in 2013 and 2014\n",
    "\n",
    "# create year and month columns for fitering\n",
    "weather2 = weather.withColumn('year', year('date')).withColumn('month', month('date'))\n",
    "weather2.show(5)"
   ]
  },
  {
   "cell_type": "code",
   "execution_count": 213,
   "id": "2137250b-ab6c-40b7-a9d1-172bb4f58281",
   "metadata": {},
   "outputs": [
    {
     "name": "stdout",
     "output_type": "stream",
     "text": [
      "+---------------+---------------+\n",
      "|avg_max_temp(F)|avg_min_temp(F)|\n",
      "+---------------+---------------+\n",
      "|          80.29|          57.51|\n",
      "+---------------+---------------+\n",
      "\n"
     ]
    }
   ],
   "source": [
    "(\n",
    "    weather2.filter((weather2.year == 2013) | (weather2.year == 2014))\n",
    "    .filter(weather2.month == 7)\n",
    "    .filter(weather2.weather == 'sun')\n",
    "    .agg(round(mean('temp_max(F)'),2).alias('avg_max_temp(F)'), \n",
    "         round(mean('temp_min(F)'),2).alias('avg_min_temp(F)'))\n",
    "    \n",
    ").show()"
   ]
  },
  {
   "cell_type": "code",
   "execution_count": 252,
   "id": "86ccbd01-21ad-486c-aea6-07356fb00c57",
   "metadata": {},
   "outputs": [
    {
     "name": "stdout",
     "output_type": "stream",
     "text": [
      "+---------+\n",
      "|avg_rainy|\n",
      "+---------+\n",
      "|     0.02|\n",
      "+---------+\n",
      "\n"
     ]
    }
   ],
   "source": [
    "# What percentage of days were rainy in q3 of 2015?\n",
    "\n",
    "(\n",
    "    weather.filter(quarter('date') == 3)\n",
    "    .filter(year('date') == 2015)\n",
    "    .select(when(col('weather') == 'rain', 1).otherwise(0).alias('rain'))\n",
    "    .agg(round(mean('rain'), 2).alias('avg_rainy'))\n",
    "    \n",
    "\n",
    ").show()"
   ]
  },
  {
   "cell_type": "markdown",
   "id": "5fd7e924-6ae6-485f-a215-4d7ad66f9afe",
   "metadata": {},
   "source": [
    "2% of days in q3 of 2015 were rainy"
   ]
  },
  {
   "cell_type": "code",
   "execution_count": 266,
   "id": "87a9a39e-6db1-4c60-a6b3-01b4acf0f0b3",
   "metadata": {},
   "outputs": [
    {
     "name": "stdout",
     "output_type": "stream",
     "text": [
      "+----+------------------------+\n",
      "|year|percentage_of_rainy_days|\n",
      "+----+------------------------+\n",
      "|2015|                    0.39|\n",
      "|2013|                    0.42|\n",
      "|2014|                    0.41|\n",
      "|2012|                    0.48|\n",
      "+----+------------------------+\n",
      "\n"
     ]
    }
   ],
   "source": [
    "# For each year, find what percentage of days it rained (had non-zero precipitation).\n",
    "\n",
    "(\n",
    "    weather.withColumn('year', year('date'))\n",
    "    .select('*',(when(weather.precipitation != 0, 1).otherwise(0)).alias('did_rain'))\n",
    "    .groupBy('year')\n",
    "    .agg(round(mean('did_rain'),2).alias(\"percentage_of_rainy_days\"))\n",
    "\n",
    ").show()"
   ]
  },
  {
   "cell_type": "code",
   "execution_count": null,
   "id": "1e0d81ea-53c3-46ee-98df-f41c344b1a13",
   "metadata": {},
   "outputs": [],
   "source": []
  },
  {
   "cell_type": "code",
   "execution_count": null,
   "id": "d7823647-2c4e-4e96-996b-22e6fb2c53c8",
   "metadata": {},
   "outputs": [],
   "source": []
  }
 ],
 "metadata": {
  "kernelspec": {
   "display_name": "Python 3",
   "language": "python",
   "name": "python3"
  },
  "language_info": {
   "codemirror_mode": {
    "name": "ipython",
    "version": 3
   },
   "file_extension": ".py",
   "mimetype": "text/x-python",
   "name": "python",
   "nbconvert_exporter": "python",
   "pygments_lexer": "ipython3",
   "version": "3.8.5"
  }
 },
 "nbformat": 4,
 "nbformat_minor": 5
}
