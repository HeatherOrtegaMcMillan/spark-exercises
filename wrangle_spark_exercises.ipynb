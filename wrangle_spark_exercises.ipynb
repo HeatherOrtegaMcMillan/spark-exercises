{
 "cells": [
  {
   "cell_type": "markdown",
   "id": "c72b373b-5fec-48c9-8c84-64667f698db6",
   "metadata": {},
   "source": [
    "# Spark Wrangle Exercises\n",
    "These exercises should go in a notebook or script named wrangle. Add, commit, and push your changes.\n",
    "\n",
    "This exercises uses the case.csv, dept.csv, and source.csv files from the san antonio 311 call dataset.\n",
    "\n",
    "1. Read the case, department, and source data into their own spark dataframes.\n",
    "\n",
    "2. Let's see how writing to the local disk works in spark:\n",
    "\n",
    "    - Write the code necessary to store the source data in both csv and json format, store these as sources_csv and sources_json\n",
    "    - Inspect your folder structure. What do you notice?\n",
    "        - There's a new folder for each json created\n",
    "        - each has a number of JSON files in it. I was unable to open any of them\n",
    "        - Seems like there's also a file that says SUCCESS perhaps indicating the process was completed\n",
    "        \n",
    "3. Inspect the data in your dataframes. Are the data types appropriate? Write the code necessary to cast the values to the appropriate types.\n",
    "    - You might have noticed that the latest date in the dataset is fairly far off from the present day. To account for this, replace any occurances of the current time with the maximum date from the dataset.\n",
    "\n",
    "------"
   ]
  },
  {
   "cell_type": "code",
   "execution_count": 1,
   "id": "fa126450-8fd8-4e48-86eb-7cc89541d179",
   "metadata": {},
   "outputs": [],
   "source": [
    "from pyspark.sql import SparkSession\n",
    "from pyspark.sql.functions import *\n",
    "from pyspark.sql.types import StructType, StructField, StringType\n",
    "\n",
    "spark = SparkSession.builder.getOrCreate()"
   ]
  },
  {
   "cell_type": "code",
   "execution_count": 2,
   "id": "ed361558-e49c-40be-83ce-9bf734384f90",
   "metadata": {},
   "outputs": [],
   "source": [
    "schema = StructType(\n",
    "    [\n",
    "        StructField(\"source_id\", StringType()),\n",
    "        StructField(\"source_username\", StringType()),\n",
    "    ]\n",
    ")\n",
    "# Read csv, but now we specify the schema:\n",
    "\n",
    "source = spark.read.csv(\"source.csv\", header=True, schema=schema)"
   ]
  },
  {
   "cell_type": "code",
   "execution_count": 3,
   "id": "fc958dfd-f7ec-4a0f-8680-3225047daab1",
   "metadata": {},
   "outputs": [],
   "source": [
    "# write data to a destination using .write property\n",
    "\n",
    "source.write.json(\"source_json\", mode=\"overwrite\")"
   ]
  },
  {
   "cell_type": "code",
   "execution_count": 4,
   "id": "553c9977-24d2-4ee3-a967-3b3868e76123",
   "metadata": {},
   "outputs": [],
   "source": [
    "# read in case csv\n",
    "case = spark.read.csv(\"case.csv\", header=True, inferSchema=True)\n"
   ]
  },
  {
   "cell_type": "code",
   "execution_count": 5,
   "id": "25ffa629-655d-4a01-b49e-08fa4278d812",
   "metadata": {},
   "outputs": [],
   "source": [
    "case.write.json('case_json', mode = 'overwrite')"
   ]
  },
  {
   "cell_type": "code",
   "execution_count": 7,
   "id": "ce98c8cf-80ca-4553-a74d-fbf48faee79b",
   "metadata": {},
   "outputs": [],
   "source": [
    "# read in dept csv\n",
    "\n",
    "dept = spark.read.csv('dept.csv', header=True, inferSchema=True)"
   ]
  },
  {
   "cell_type": "code",
   "execution_count": 8,
   "id": "de52111f-b8c1-4133-b478-49d0332aaf36",
   "metadata": {},
   "outputs": [],
   "source": [
    "dept.write.json('dept_json', mode = 'overwrite')"
   ]
  },
  {
   "cell_type": "code",
   "execution_count": 10,
   "id": "83ca7681-978b-498d-9635-b88cc79926f1",
   "metadata": {},
   "outputs": [
    {
     "data": {
      "text/plain": [
       "[('source_id', 'string'), ('source_username', 'string')]"
      ]
     },
     "execution_count": 10,
     "metadata": {},
     "output_type": "execute_result"
    }
   ],
   "source": [
    "# source seems good to go\n",
    "source.dtypes"
   ]
  },
  {
   "cell_type": "code",
   "execution_count": 14,
   "id": "b90515ea-c95f-4c69-8eaa-2661d047739c",
   "metadata": {},
   "outputs": [
    {
     "data": {
      "text/plain": [
       "[('case_id', 'int'),\n",
       " ('case_opened_date', 'string'),\n",
       " ('case_closed_date', 'string'),\n",
       " ('SLA_due_date', 'string'),\n",
       " ('case_late', 'string'),\n",
       " ('num_days_late', 'double'),\n",
       " ('case_closed', 'string'),\n",
       " ('dept_division', 'string'),\n",
       " ('service_request_type', 'string'),\n",
       " ('SLA_days', 'double'),\n",
       " ('case_status', 'string'),\n",
       " ('source_id', 'string'),\n",
       " ('request_address', 'string'),\n",
       " ('council_district', 'int')]"
      ]
     },
     "execution_count": 14,
     "metadata": {},
     "output_type": "execute_result"
    }
   ],
   "source": [
    "case.dtypes"
   ]
  },
  {
   "cell_type": "markdown",
   "id": "fc16bc6b-10fc-434e-9cea-124ff5f9f73f",
   "metadata": {},
   "source": [
    "Need to:\n",
    "- change all dates to datetimes\n",
    "    - convert any present day dates to max date in dataset\n",
    "- change case late to bool\n",
    "- change case closed to bool\n",
    "- change council address to string"
   ]
  },
  {
   "cell_type": "code",
   "execution_count": 12,
   "id": "3f6733c7-8eb1-4b34-bb05-876bb1666a0c",
   "metadata": {},
   "outputs": [
    {
     "data": {
      "text/plain": [
       "[('dept_division', 'string'),\n",
       " ('dept_name', 'string'),\n",
       " ('standardized_dept_name', 'string'),\n",
       " ('dept_subject_to_SLA', 'string')]"
      ]
     },
     "execution_count": 12,
     "metadata": {},
     "output_type": "execute_result"
    }
   ],
   "source": [
    "dept.dtypes"
   ]
  },
  {
   "cell_type": "markdown",
   "id": "0c5c4f88-5cea-428b-9150-59108971b3d3",
   "metadata": {},
   "source": [
    "Need to\n",
    "- get rid of dept_name, keep standardized dept name"
   ]
  },
  {
   "cell_type": "code",
   "execution_count": 15,
   "id": "a050063a-63d8-4a7f-8242-e9ed95108a88",
   "metadata": {},
   "outputs": [
    {
     "name": "stdout",
     "output_type": "stream",
     "text": [
      "-RECORD 0-----------------------------------------------------\n",
      " case_id              | 1014127332                            \n",
      " case_opened_date     | 1/1/18 0:42                           \n",
      " case_closed_date     | 1/1/18 12:29                          \n",
      " SLA_due_date         | 9/26/20 0:42                          \n",
      " case_late            | NO                                    \n",
      " num_days_late        | -998.5087616000001                    \n",
      " case_closed          | YES                                   \n",
      " dept_division        | Field Operations                      \n",
      " service_request_type | Stray Animal                          \n",
      " SLA_days             | 999.0                                 \n",
      " case_status          | Closed                                \n",
      " source_id            | svcCRMLS                              \n",
      " request_address      | 2315  EL PASO ST, San Antonio, 78207  \n",
      " council_district     | 5                                     \n",
      "-RECORD 1-----------------------------------------------------\n",
      " case_id              | 1014127333                            \n",
      " case_opened_date     | 1/1/18 0:46                           \n",
      " case_closed_date     | 1/3/18 8:11                           \n",
      " SLA_due_date         | 1/5/18 8:30                           \n",
      " case_late            | NO                                    \n",
      " num_days_late        | -2.0126041669999997                   \n",
      " case_closed          | YES                                   \n",
      " dept_division        | Storm Water                           \n",
      " service_request_type | Removal Of Obstruction                \n",
      " SLA_days             | 4.322222222                           \n",
      " case_status          | Closed                                \n",
      " source_id            | svcCRMSS                              \n",
      " request_address      | 2215  GOLIAD RD, San Antonio, 78223   \n",
      " council_district     | 3                                     \n",
      "-RECORD 2-----------------------------------------------------\n",
      " case_id              | 1014127334                            \n",
      " case_opened_date     | 1/1/18 0:48                           \n",
      " case_closed_date     | 1/2/18 7:57                           \n",
      " SLA_due_date         | 1/5/18 8:30                           \n",
      " case_late            | NO                                    \n",
      " num_days_late        | -3.022337963                          \n",
      " case_closed          | YES                                   \n",
      " dept_division        | Storm Water                           \n",
      " service_request_type | Removal Of Obstruction                \n",
      " SLA_days             | 4.320729167                           \n",
      " case_status          | Closed                                \n",
      " source_id            | svcCRMSS                              \n",
      " request_address      | 102  PALFREY ST W, San Antonio, 78223 \n",
      " council_district     | 3                                     \n",
      "only showing top 3 rows\n",
      "\n"
     ]
    }
   ],
   "source": [
    "# look at first three records\n",
    "case.show(3, truncate=False, vertical = True)"
   ]
  },
  {
   "cell_type": "code",
   "execution_count": 17,
   "id": "f092fdb0-77f0-4fff-8dc8-2a93abfdba0a",
   "metadata": {},
   "outputs": [],
   "source": [
    "# Rename 'SLA_due_date' to 'case_due_date' using .withColumnRenamed\n",
    "\n",
    "case = case.withColumnRenamed('SLA_due_date', 'case_due_date')\n"
   ]
  },
  {
   "cell_type": "code",
   "execution_count": 18,
   "id": "11e0db07-17b0-4493-95b7-722f0e2b7d5f",
   "metadata": {},
   "outputs": [
    {
     "name": "stdout",
     "output_type": "stream",
     "text": [
      "+-----------+---------+\n",
      "|case_closed|case_late|\n",
      "+-----------+---------+\n",
      "|        YES|       NO|\n",
      "|        YES|       NO|\n",
      "|        YES|       NO|\n",
      "|        YES|       NO|\n",
      "|        YES|      YES|\n",
      "+-----------+---------+\n",
      "only showing top 5 rows\n",
      "\n"
     ]
    }
   ],
   "source": [
    "# correct data types: case_closed and case_late to boolean from Yes and No\n",
    "\n",
    "case.select(\"case_closed\", \"case_late\").show(5)"
   ]
  },
  {
   "cell_type": "code",
   "execution_count": 19,
   "id": "8d1eb93f-3ffa-4e34-8a5a-fc96f1d67d03",
   "metadata": {},
   "outputs": [],
   "source": [
    "# use .withColumn to change columns from string to boolean values\n",
    "\n",
    "case = case.withColumn('case_closed', expr('case_closed == \"YES\"'))\\\n",
    ".withColumn('case_late', expr('case_late == \"YES\"'))"
   ]
  },
  {
   "cell_type": "code",
   "execution_count": 20,
   "id": "08d66688-d178-4c92-ab48-3d744b125144",
   "metadata": {},
   "outputs": [
    {
     "name": "stdout",
     "output_type": "stream",
     "text": [
      "+-----------+---------+\n",
      "|case_closed|case_late|\n",
      "+-----------+---------+\n",
      "|       true|    false|\n",
      "|       true|    false|\n",
      "|       true|    false|\n",
      "|       true|    false|\n",
      "|       true|     true|\n",
      "+-----------+---------+\n",
      "only showing top 5 rows\n",
      "\n"
     ]
    }
   ],
   "source": [
    "case.select(\"case_closed\", \"case_late\").show(5)"
   ]
  },
  {
   "cell_type": "code",
   "execution_count": 22,
   "id": "f3cc17d3-79d4-488b-b7e7-0bcb6ee64a93",
   "metadata": {},
   "outputs": [],
   "source": [
    "# council_district as a string instead of int\n",
    "case = case.withColumn('council_district', col('council_district').cast('string'))"
   ]
  },
  {
   "cell_type": "code",
   "execution_count": 23,
   "id": "e84f5854-9107-4903-96d3-00ecd9250e2e",
   "metadata": {},
   "outputs": [
    {
     "name": "stdout",
     "output_type": "stream",
     "text": [
      "+----------------+\n",
      "|council_district|\n",
      "+----------------+\n",
      "|               5|\n",
      "|               3|\n",
      "|               3|\n",
      "|               3|\n",
      "+----------------+\n",
      "only showing top 4 rows\n",
      "\n"
     ]
    }
   ],
   "source": [
    "# view the column\n",
    "\n",
    "case.select('council_district').show(4)"
   ]
  },
  {
   "cell_type": "code",
   "execution_count": 24,
   "id": "ab7e9965-5183-428a-abef-ce7710f679fa",
   "metadata": {},
   "outputs": [
    {
     "name": "stdout",
     "output_type": "stream",
     "text": [
      "+----------------+----------------+-------------+\n",
      "|case_opened_date|case_closed_date|case_due_date|\n",
      "+----------------+----------------+-------------+\n",
      "|     1/1/18 0:42|    1/1/18 12:29| 9/26/20 0:42|\n",
      "|     1/1/18 0:46|     1/3/18 8:11|  1/5/18 8:30|\n",
      "|     1/1/18 0:48|     1/2/18 7:57|  1/5/18 8:30|\n",
      "|     1/1/18 1:29|     1/2/18 8:13| 1/17/18 8:30|\n",
      "|     1/1/18 1:34|    1/1/18 13:29|  1/1/18 4:34|\n",
      "+----------------+----------------+-------------+\n",
      "only showing top 5 rows\n",
      "\n"
     ]
    }
   ],
   "source": [
    "# convert case_opened_date, case_closed_date and case_due_date to datetime format\n",
    "\n",
    "case.select('case_opened_date', 'case_closed_date', 'case_due_date').show(5)\n"
   ]
  },
  {
   "cell_type": "code",
   "execution_count": 25,
   "id": "ca153076-4e5f-4d2c-b076-6b3b9f9611ba",
   "metadata": {},
   "outputs": [],
   "source": [
    "# to_timestamp, fmt\n",
    "\n",
    "# set up a format \n",
    "fmt = \"M/d/yy H:mm\"\n",
    "\n",
    "case = case.withColumn('case_opened_date', to_timestamp('case_opened_date', fmt))\\\n",
    ".withColumn('case_closed_date', to_timestamp('case_closed_date', fmt))\\\n",
    ".withColumn('case_due_date', to_timestamp('case_due_date', fmt))\n"
   ]
  },
  {
   "cell_type": "code",
   "execution_count": 27,
   "id": "5cd6341e-8d21-4f08-b177-febc4b4443f4",
   "metadata": {},
   "outputs": [
    {
     "name": "stdout",
     "output_type": "stream",
     "text": [
      "+-------------------+-------------------+-------------------+\n",
      "|   case_opened_date|   case_closed_date|      case_due_date|\n",
      "+-------------------+-------------------+-------------------+\n",
      "|2018-01-01 00:42:00|2018-01-01 12:29:00|2020-09-26 00:42:00|\n",
      "|2018-01-01 00:46:00|2018-01-03 08:11:00|2018-01-05 08:30:00|\n",
      "|2018-01-01 00:48:00|2018-01-02 07:57:00|2018-01-05 08:30:00|\n",
      "|2018-01-01 01:29:00|2018-01-02 08:13:00|2018-01-17 08:30:00|\n",
      "|2018-01-01 01:34:00|2018-01-01 13:29:00|2018-01-01 04:34:00|\n",
      "+-------------------+-------------------+-------------------+\n",
      "only showing top 5 rows\n",
      "\n"
     ]
    }
   ],
   "source": [
    "# check the three columns again\n",
    "\n",
    "case.select('case_opened_date', 'case_closed_date', 'case_due_date').show(5)"
   ]
  },
  {
   "cell_type": "code",
   "execution_count": 31,
   "id": "9941f0af-c9eb-43f4-a87b-14d645af6ffa",
   "metadata": {},
   "outputs": [
    {
     "name": "stdout",
     "output_type": "stream",
     "text": [
      "+-------------------------------------+\n",
      "|request_address                      |\n",
      "+-------------------------------------+\n",
      "|2315  el paso st, san antonio, 78207 |\n",
      "|2215  goliad rd, san antonio, 78223  |\n",
      "|102  palfrey st w, san antonio, 78223|\n",
      "|114  la garde st, san antonio, 78223 |\n",
      "|734  clearview dr, san antonio, 78228|\n",
      "+-------------------------------------+\n",
      "only showing top 5 rows\n",
      "\n"
     ]
    }
   ],
   "source": [
    "# lowercase and trim whitespace of address\n",
    "\n",
    "case = case.withColumn('request_address', trim(lower(case.request_address)))\n",
    "\n",
    "case.select('request_address').show(5, truncate = False)"
   ]
  },
  {
   "cell_type": "code",
   "execution_count": 33,
   "id": "875e7ab0-375c-4f2e-93ca-2048e39e9991",
   "metadata": {},
   "outputs": [],
   "source": [
    "# use format_string function to pad zeros for council_district\n",
    "\n",
    "case = case.withColumn('council_district', format_string('%03d', col('council_district').cast('int')))"
   ]
  },
  {
   "cell_type": "code",
   "execution_count": 34,
   "id": "982db953-8c5a-4aca-b9ad-834871791b15",
   "metadata": {},
   "outputs": [
    {
     "name": "stdout",
     "output_type": "stream",
     "text": [
      "+----------------+\n",
      "|council_district|\n",
      "+----------------+\n",
      "|             005|\n",
      "|             003|\n",
      "|             003|\n",
      "|             003|\n",
      "|             007|\n",
      "+----------------+\n",
      "only showing top 5 rows\n",
      "\n"
     ]
    }
   ],
   "source": [
    "case.select('council_district').show(5)"
   ]
  },
  {
   "cell_type": "code",
   "execution_count": 35,
   "id": "37b91cc2-c68a-4e25-b9d0-2d3d8a8a4f2d",
   "metadata": {},
   "outputs": [
    {
     "name": "stdout",
     "output_type": "stream",
     "text": [
      "+-------+\n",
      "|zipcode|\n",
      "+-------+\n",
      "|  78207|\n",
      "|  78223|\n",
      "|  78223|\n",
      "|  78223|\n",
      "|  78228|\n",
      "+-------+\n",
      "only showing top 5 rows\n",
      "\n"
     ]
    }
   ],
   "source": [
    "# create a new column for zipcode:\n",
    "\n",
    "case = case.withColumn('zipcode', regexp_extract('request_address', r\"(\\d+$)\", 1))\n",
    "\n",
    "case.select('zipcode').show(5)"
   ]
  },
  {
   "cell_type": "code",
   "execution_count": 39,
   "id": "a434e6ad-eeda-4645-b30e-2b0a805814fb",
   "metadata": {},
   "outputs": [
    {
     "name": "stdout",
     "output_type": "stream",
     "text": [
      "+-------------------+\n",
      "| max(case_due_date)|\n",
      "+-------------------+\n",
      "|2022-05-27 15:07:00|\n",
      "+-------------------+\n",
      "\n"
     ]
    }
   ],
   "source": [
    "case.select('case_due_date').agg(max('case_due_date')).show(10)"
   ]
  },
  {
   "cell_type": "code",
   "execution_count": 47,
   "id": "159a7e63-af39-4bf0-b170-3aaf95582d32",
   "metadata": {},
   "outputs": [
    {
     "name": "stdout",
     "output_type": "stream",
     "text": [
      "+-------------------+-------------------+-----------+--------------------------------------+\n",
      "|case_due_date      |case_opened_date   |case_status|service_request_type                  |\n",
      "+-------------------+-------------------+-----------+--------------------------------------+\n",
      "|2022-05-27 15:07:00|2018-07-27 15:07:00|Open       |Signal Timing Modification By Engineer|\n",
      "|2022-05-25 15:42:00|2018-07-25 15:42:00|Open       |Signal Timing Modification By Engineer|\n",
      "|2022-05-24 10:01:00|2018-07-24 10:01:00|Open       |Engineering Design                    |\n",
      "|2022-04-20 10:43:00|2018-06-19 10:43:00|Open       |Signal Timing Modification By Engineer|\n",
      "|2022-02-24 08:30:00|2018-04-22 20:27:00|Open       |Signal Timing Modification By Engineer|\n",
      "|2022-02-15 11:07:00|2018-04-12 11:07:00|Open       |Signal Timing Modification By Engineer|\n",
      "|2022-02-03 08:30:00|2018-04-01 12:28:00|Open       |Signal Timing Modification By Engineer|\n",
      "|2021-12-22 16:59:00|2018-02-16 16:59:00|Open       |Signal Timing Modification By Engineer|\n",
      "|2021-12-22 16:42:00|2018-02-16 16:42:00|Open       |Signal Timing Modification By Engineer|\n",
      "|2021-11-25 08:30:00|2018-01-19 17:07:00|Open       |Signal Timing Modification By Engineer|\n",
      "+-------------------+-------------------+-----------+--------------------------------------+\n",
      "only showing top 10 rows\n",
      "\n"
     ]
    }
   ],
   "source": [
    "# looking at dates to see if there's any past present day\n",
    "\n",
    "case.select('case_due_date', 'case_opened_date' ,'case_status', 'service_request_type').sort(desc('case_due_date')).show(10, truncate = False)\n"
   ]
  },
  {
   "cell_type": "code",
   "execution_count": 54,
   "id": "b4ac019f-a7a9-4d47-b6c6-1dd896157e07",
   "metadata": {},
   "outputs": [],
   "source": [
    "#create three new columns 'case_age', 'days_to_closed', 'case_lifetime'\n",
    "\n",
    "case = (\n",
    "    case.withColumn(\n",
    "        \"case_age\", datediff(current_timestamp(), \"case_opened_date\")\n",
    "    )\n",
    "    .withColumn(\n",
    "        \"days_to_closed\", datediff(\"case_closed_date\", \"case_opened_date\")\n",
    "    )\n",
    "    .withColumn(\n",
    "        \"case_lifetime\",\n",
    "        when(expr(\"! case_closed\"), col(\"case_age\")).otherwise(\n",
    "            col(\"days_to_closed\")\n",
    "        ),\n",
    "    )\n",
    ")"
   ]
  },
  {
   "cell_type": "code",
   "execution_count": 56,
   "id": "9e2bad3d-0963-4634-9ac0-b64d85487ebe",
   "metadata": {},
   "outputs": [
    {
     "name": "stdout",
     "output_type": "stream",
     "text": [
      "-RECORD 0-----------------------------------------------------\n",
      " case_id              | 1014127332                            \n",
      " case_opened_date     | 2018-01-01 00:42:00                   \n",
      " case_closed_date     | 2018-01-01 12:29:00                   \n",
      " case_due_date        | 2020-09-26 00:42:00                   \n",
      " case_late            | false                                 \n",
      " num_days_late        | -998.5087616000001                    \n",
      " case_closed          | true                                  \n",
      " dept_division        | Field Operations                      \n",
      " service_request_type | Stray Animal                          \n",
      " SLA_days             | 999.0                                 \n",
      " case_status          | Closed                                \n",
      " source_id            | svcCRMLS                              \n",
      " request_address      | 2315  el paso st, san antonio, 78207  \n",
      " council_district     | 005                                   \n",
      " zipcode              | 78207                                 \n",
      " case_age             | 1313                                  \n",
      " days_to_closed       | 0                                     \n",
      " case_lifetime        | 0                                     \n",
      "-RECORD 1-----------------------------------------------------\n",
      " case_id              | 1014127333                            \n",
      " case_opened_date     | 2018-01-01 00:46:00                   \n",
      " case_closed_date     | 2018-01-03 08:11:00                   \n",
      " case_due_date        | 2018-01-05 08:30:00                   \n",
      " case_late            | false                                 \n",
      " num_days_late        | -2.0126041669999997                   \n",
      " case_closed          | true                                  \n",
      " dept_division        | Storm Water                           \n",
      " service_request_type | Removal Of Obstruction                \n",
      " SLA_days             | 4.322222222                           \n",
      " case_status          | Closed                                \n",
      " source_id            | svcCRMSS                              \n",
      " request_address      | 2215  goliad rd, san antonio, 78223   \n",
      " council_district     | 003                                   \n",
      " zipcode              | 78223                                 \n",
      " case_age             | 1313                                  \n",
      " days_to_closed       | 2                                     \n",
      " case_lifetime        | 2                                     \n",
      "-RECORD 2-----------------------------------------------------\n",
      " case_id              | 1014127334                            \n",
      " case_opened_date     | 2018-01-01 00:48:00                   \n",
      " case_closed_date     | 2018-01-02 07:57:00                   \n",
      " case_due_date        | 2018-01-05 08:30:00                   \n",
      " case_late            | false                                 \n",
      " num_days_late        | -3.022337963                          \n",
      " case_closed          | true                                  \n",
      " dept_division        | Storm Water                           \n",
      " service_request_type | Removal Of Obstruction                \n",
      " SLA_days             | 4.320729167                           \n",
      " case_status          | Closed                                \n",
      " source_id            | svcCRMSS                              \n",
      " request_address      | 102  palfrey st w, san antonio, 78223 \n",
      " council_district     | 003                                   \n",
      " zipcode              | 78223                                 \n",
      " case_age             | 1313                                  \n",
      " days_to_closed       | 1                                     \n",
      " case_lifetime        | 1                                     \n",
      "only showing top 3 rows\n",
      "\n"
     ]
    }
   ],
   "source": [
    "case.show(3, truncate = False, vertical = True)"
   ]
  },
  {
   "cell_type": "markdown",
   "id": "e4959317-0d15-4139-9490-e97373705650",
   "metadata": {},
   "source": [
    "### 1. How old is the latest (in terms of days past SLA) currently open issue? How long has the oldest (in terms of days since opened) currently opened issue been open?\n",
    "-  The oldest case in terms of days past SLA is 1419 days old\n",
    "\n",
    "- Cases that have been open the longest have been open for 1678 days"
   ]
  },
  {
   "cell_type": "markdown",
   "id": "143515cc-a196-433f-9f7b-070b655f22ad",
   "metadata": {},
   "source": [
    "SLA days is due_date - start_date"
   ]
  },
  {
   "cell_type": "code",
   "execution_count": 68,
   "id": "b5676853-42f4-47f8-a83c-e6c3c9a183ad",
   "metadata": {},
   "outputs": [
    {
     "name": "stdout",
     "output_type": "stream",
     "text": [
      "+-----------+-----------+--------+-------------------+-------------------+----------------+\n",
      "|   SLA_days|case_status|case_age|      case_due_date|   case_opened_date|case_closed_date|\n",
      "+-----------+-----------+--------+-------------------+-------------------+----------------+\n",
      "| 1419.00191|       Open|    1414|2021-08-11 08:30:00|2017-09-22 08:27:00|            null|\n",
      "|     1419.0|       Open|    1372|2021-09-22 14:05:00|2017-11-03 14:05:00|            null|\n",
      "|1416.063981|       Open|    1354|2021-10-07 08:30:00|2017-11-21 06:57:00|            null|\n",
      "|1414.813009|       Open|    1342|2021-10-18 08:30:00|2017-12-03 12:59:00|            null|\n",
      "|1406.003623|       Open|    1673|2020-11-12 08:30:00|2017-01-06 08:24:00|            null|\n",
      "|     1406.0|       Open|    1673|2020-11-12 10:13:00|2017-01-06 10:13:00|            null|\n",
      "|     1406.0|       Open|    1673|2020-11-12 10:20:00|2017-01-06 10:20:00|            null|\n",
      "|     1406.0|       Open|    1673|2020-11-12 10:21:00|2017-01-06 10:21:00|            null|\n",
      "|     1406.0|       Open|    1673|2020-11-12 10:23:00|2017-01-06 10:23:00|            null|\n",
      "|     1406.0|       Open|    1673|2020-11-12 10:21:00|2017-01-06 10:21:00|            null|\n",
      "+-----------+-----------+--------+-------------------+-------------------+----------------+\n",
      "only showing top 10 rows\n",
      "\n"
     ]
    }
   ],
   "source": [
    "case.filter(col('case_status') == 'Open')\\\n",
    ".select('SLA_days', 'case_status', 'case_age', 'case_due_date', 'case_opened_date', 'case_closed_date').sort(desc('SLA_days')).show(10)"
   ]
  },
  {
   "cell_type": "code",
   "execution_count": 67,
   "id": "14f4e2dc-5091-424a-8a77-210084bab33b",
   "metadata": {},
   "outputs": [
    {
     "name": "stdout",
     "output_type": "stream",
     "text": [
      "+-----------+-----------+--------+-------------------+-------------------+----------------+\n",
      "|   SLA_days|case_status|case_age|      case_due_date|   case_opened_date|case_closed_date|\n",
      "+-----------+-----------+--------+-------------------+-------------------+----------------+\n",
      "|15.77859954|       Open|    1678|2017-01-17 08:30:00|2017-01-01 13:48:00|            null|\n",
      "|15.77247685|       Open|    1678|2017-01-17 08:30:00|2017-01-01 13:57:00|            null|\n",
      "|       15.0|       Open|    1677|2017-01-17 11:26:00|2017-01-02 11:26:00|            null|\n",
      "|       15.0|       Open|    1676|2017-01-18 10:01:00|2017-01-03 10:01:00|            null|\n",
      "|      128.0|       Open|    1675|2017-05-12 10:16:00|2017-01-04 10:16:00|            null|\n",
      "|      128.0|       Open|    1675|2017-05-12 10:56:00|2017-01-04 10:56:00|            null|\n",
      "|      128.0|       Open|    1675|2017-05-12 15:02:00|2017-01-04 15:02:00|            null|\n",
      "|      128.0|       Open|    1675|2017-05-12 14:52:00|2017-01-04 14:52:00|            null|\n",
      "|      128.0|       Open|    1675|2017-05-12 12:19:00|2017-01-04 12:19:00|            null|\n",
      "|      128.0|       Open|    1675|2017-05-12 14:58:00|2017-01-04 14:58:00|            null|\n",
      "+-----------+-----------+--------+-------------------+-------------------+----------------+\n",
      "only showing top 10 rows\n",
      "\n"
     ]
    }
   ],
   "source": [
    "case.filter(col('case_status') == 'Open')\\\n",
    ".select('SLA_days', 'case_status', 'case_age', 'case_due_date', 'case_opened_date', 'case_closed_date').sort(desc('case_age')).show(10)"
   ]
  },
  {
   "cell_type": "markdown",
   "id": "8f3e1e34-9d40-46cc-9205-018e6134a27a",
   "metadata": {},
   "source": [
    "### 2. How many Stray Animal cases are there?\n",
    "- 26760"
   ]
  },
  {
   "cell_type": "code",
   "execution_count": 78,
   "id": "b0a3f356-a470-4028-9260-48105e456c8f",
   "metadata": {},
   "outputs": [
    {
     "data": {
      "text/plain": [
       "26760"
      ]
     },
     "execution_count": 78,
     "metadata": {},
     "output_type": "execute_result"
    }
   ],
   "source": [
    "case[case.service_request_type == 'Stray Animal'].count()"
   ]
  },
  {
   "cell_type": "markdown",
   "id": "9be9a177-30cb-4190-99da-691f00f0cf72",
   "metadata": {},
   "source": [
    "### 3. How many service requests that are assigned to the Field Operations department (dept_division) are not classified as \"Officer Standby\" request type (service_request_type)?\n",
    "\n",
    "- 116915 are not \n"
   ]
  },
  {
   "cell_type": "code",
   "execution_count": 86,
   "id": "da51d208-a4ff-427f-89fe-f23daf4357dc",
   "metadata": {},
   "outputs": [
    {
     "name": "stdout",
     "output_type": "stream",
     "text": [
      "+-------------------------------+-----+\n",
      "|service_request_type           |count|\n",
      "+-------------------------------+-----+\n",
      "|Animal Permits Request         |3026 |\n",
      "|Injured Animal(Critical)       |9633 |\n",
      "|Officer Standby                |3013 |\n",
      "|Animal Bite(Non-Critical)      |4750 |\n",
      "|Stray Animal                   |26760|\n",
      "|Trapped/Confined Animal        |11354|\n",
      "|City Council Animal Request    |365  |\n",
      "|Aggressive Animal(Non-Critical)|24882|\n",
      "|Animal Bite(Critical)          |708  |\n",
      "|Public Nuisance(Own Animal)    |10715|\n",
      "|Aggressive Animal(Critical)    |5266 |\n",
      "|Animal Cruelty(Critical)       |3001 |\n",
      "|Spay/Neuter Request Response   |1    |\n",
      "|Animal Neglect                 |13441|\n",
      "+-------------------------------+-----+\n",
      "\n"
     ]
    }
   ],
   "source": [
    "case[case.dept_division == 'Field Operations'].groupby('service_request_type').count().show(truncate = False)"
   ]
  },
  {
   "cell_type": "markdown",
   "id": "c2e3d4c7-316a-474f-baee-9b23e0705826",
   "metadata": {},
   "source": [
    "Looks like a bunch of them arent classified as Officer Standby"
   ]
  },
  {
   "cell_type": "code",
   "execution_count": 87,
   "id": "5d157a5c-3b25-43d4-ab7a-8f293171b00b",
   "metadata": {},
   "outputs": [
    {
     "data": {
      "text/plain": [
       "116915"
      ]
     },
     "execution_count": 87,
     "metadata": {},
     "output_type": "execute_result"
    }
   ],
   "source": [
    "case[case.dept_division == 'Field Operations'].select(col('service_request_type') != 'Officer Standby').count()"
   ]
  },
  {
   "cell_type": "markdown",
   "id": "47922f42-96dc-44fb-8005-00714599db79",
   "metadata": {},
   "source": [
    "4. Convert the council_district column to a string column.\n",
    "\n"
   ]
  },
  {
   "cell_type": "code",
   "execution_count": null,
   "id": "c4891127-0de4-43b0-b536-9cdfa3fdc4c2",
   "metadata": {},
   "outputs": [],
   "source": []
  },
  {
   "cell_type": "code",
   "execution_count": null,
   "id": "50b36b43-9a96-471c-ae04-748a1dad94e7",
   "metadata": {},
   "outputs": [],
   "source": []
  },
  {
   "cell_type": "markdown",
   "id": "e4cc50a7-2ad4-4261-b5d8-172ffe42f15c",
   "metadata": {},
   "source": [
    "5. Extract the year from the case_closed_date column.\n",
    "\n"
   ]
  },
  {
   "cell_type": "code",
   "execution_count": null,
   "id": "dd618b12-6ea7-4fa6-a04e-99dd020c6d20",
   "metadata": {},
   "outputs": [],
   "source": []
  },
  {
   "cell_type": "code",
   "execution_count": null,
   "id": "13bb06ea-7637-4f07-8d08-0092e4a0446c",
   "metadata": {},
   "outputs": [],
   "source": []
  },
  {
   "cell_type": "markdown",
   "id": "7f663e30-f3bb-4817-b56d-ac2ed81b2018",
   "metadata": {},
   "source": [
    "6. Convert num_days_late from days to hours in new columns num_hours_late.\n",
    "\n"
   ]
  },
  {
   "cell_type": "code",
   "execution_count": null,
   "id": "ab998d36-3256-4635-bb3f-999481f82348",
   "metadata": {},
   "outputs": [],
   "source": []
  },
  {
   "cell_type": "code",
   "execution_count": null,
   "id": "2d429c7d-801a-4000-b618-9d9698dbbbc1",
   "metadata": {},
   "outputs": [],
   "source": []
  },
  {
   "cell_type": "markdown",
   "id": "e8f4f7d6-89bc-45a7-a947-4c78392a499e",
   "metadata": {},
   "source": [
    "7. Join the case data with the source and department data.\n",
    "\n",
    "8. Are there any cases that do not have a request source?\n",
    "\n",
    "9. What are the top 10 service request types in terms of number of requests?\n",
    "\n",
    "10. What are the top 10 service request types in terms of average days late?\n",
    "\n",
    "11. Does number of days late depend on department?\n",
    "\n",
    "12. How do number of days late depend on department and request type?\n",
    "\n"
   ]
  }
 ],
 "metadata": {
  "kernelspec": {
   "display_name": "Python 3",
   "language": "python",
   "name": "python3"
  },
  "language_info": {
   "codemirror_mode": {
    "name": "ipython",
    "version": 3
   },
   "file_extension": ".py",
   "mimetype": "text/x-python",
   "name": "python",
   "nbconvert_exporter": "python",
   "pygments_lexer": "ipython3",
   "version": "3.8.5"
  }
 },
 "nbformat": 4,
 "nbformat_minor": 5
}
